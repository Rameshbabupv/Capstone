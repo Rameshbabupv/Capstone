{
 "cells": [
  {
   "cell_type": "markdown",
   "id": "regional-spyware",
   "metadata": {},
   "source": [
    "## KNN Model"
   ]
  },
  {
   "cell_type": "code",
   "execution_count": 2,
   "id": "fundamental-yukon",
   "metadata": {},
   "outputs": [],
   "source": [
    "## Import need packages \n",
    "from keras.wrappers.scikit_learn import KerasClassifier\n",
    "import pandas as pd\n",
    "import numpy as np\n",
    "\n",
    "from keras.models import Sequential\n",
    "from keras.layers import Dense, BatchNormalization,Dropout\n",
    "\n",
    "from sklearn.model_selection import GridSearchCV, train_test_split\n",
    "from sklearn.pipeline import make_pipeline\n",
    "from sklearn.preprocessing import StandardScaler\n",
    "from sklearn.feature_extraction.text import CountVectorizer, TfidfVectorizer\n",
    "from sklearn.metrics import plot_confusion_matrix, confusion_matrix\n",
    "from sklearn.metrics import accuracy_score, balanced_accuracy_score\n",
    "from sklearn.preprocessing import StandardScaler\n",
    "import matplotlib.pyplot as plt"
   ]
  },
  {
   "cell_type": "code",
   "execution_count": 3,
   "id": "contained-hurricane",
   "metadata": {},
   "outputs": [],
   "source": [
    "def create_model(units=60, dropout=0, reg=None):\n",
    "    model = Sequential()\n",
    "    model.add(Dense(12, input_shape=(1000,), activation='relu'))\n",
    "    model.add(BatchNormalization())\n",
    "    \n",
    "    model.add(Dense(units, activation='relu', kernel_regularizer = reg))\n",
    "    model.add(Dropout(dropout))\n",
    " \n",
    "    \n",
    "    model.add(Dense(5, activation='sigmoid'))\n",
    "    model.compile(loss='categorical_crossentropy', optimizer='adam', metrics=['accuracy'])\n",
    "    return model"
   ]
  },
  {
   "cell_type": "code",
   "execution_count": 4,
   "id": "ruled-bandwidth",
   "metadata": {},
   "outputs": [],
   "source": [
    "dataset = pd.read_pickle(\"../data/dataset_df.pkl\")"
   ]
  },
  {
   "cell_type": "code",
   "execution_count": 35,
   "id": "reduced-setting",
   "metadata": {},
   "outputs": [
    {
     "data": {
      "text/html": [
       "<div>\n",
       "<style scoped>\n",
       "    .dataframe tbody tr th:only-of-type {\n",
       "        vertical-align: middle;\n",
       "    }\n",
       "\n",
       "    .dataframe tbody tr th {\n",
       "        vertical-align: top;\n",
       "    }\n",
       "\n",
       "    .dataframe thead th {\n",
       "        text-align: right;\n",
       "    }\n",
       "</style>\n",
       "<table border=\"1\" class=\"dataframe\">\n",
       "  <thead>\n",
       "    <tr style=\"text-align: right;\">\n",
       "      <th></th>\n",
       "      <th>pname</th>\n",
       "      <th>key</th>\n",
       "      <th>summary</th>\n",
       "      <th>description</th>\n",
       "      <th>space</th>\n",
       "      <th>features</th>\n",
       "      <th>features_fixed</th>\n",
       "      <th>label</th>\n",
       "    </tr>\n",
       "  </thead>\n",
       "  <tbody>\n",
       "    <tr>\n",
       "      <th>0</th>\n",
       "      <td>Books</td>\n",
       "      <td>BK-1</td>\n",
       "      <td>In the Picture of Dorian Gray, do you think th...</td>\n",
       "      <td></td>\n",
       "      <td></td>\n",
       "      <td>In the Picture of Dorian Gray, do you think th...</td>\n",
       "      <td>in the picture of dorian gray, do you think th...</td>\n",
       "      <td>0</td>\n",
       "    </tr>\n",
       "    <tr>\n",
       "      <th>1</th>\n",
       "      <td>Books</td>\n",
       "      <td>BK-2</td>\n",
       "      <td>bb</td>\n",
       "      <td></td>\n",
       "      <td></td>\n",
       "      <td>bb</td>\n",
       "      <td>bb</td>\n",
       "      <td>0</td>\n",
       "    </tr>\n",
       "    <tr>\n",
       "      <th>2</th>\n",
       "      <td>Books</td>\n",
       "      <td>BK-3</td>\n",
       "      <td>Need some advice from book experts</td>\n",
       "      <td>I got a lot of books at the moment and my book...</td>\n",
       "      <td></td>\n",
       "      <td>Need some advice from book experts I got a lot...</td>\n",
       "      <td>need some advice from book experts i got a lot...</td>\n",
       "      <td>0</td>\n",
       "    </tr>\n",
       "    <tr>\n",
       "      <th>3</th>\n",
       "      <td>Books</td>\n",
       "      <td>BK-4</td>\n",
       "      <td>Can we talk about The Invisible Life Of Addie ...</td>\n",
       "      <td>I want to preface this with saying that *The I...</td>\n",
       "      <td></td>\n",
       "      <td>Can we talk about The Invisible Life Of Addie ...</td>\n",
       "      <td>can we talk about the invisible life of addie ...</td>\n",
       "      <td>0</td>\n",
       "    </tr>\n",
       "    <tr>\n",
       "      <th>4</th>\n",
       "      <td>Books</td>\n",
       "      <td>BK-5</td>\n",
       "      <td>I Forgot a book and I want to read it again</td>\n",
       "      <td></td>\n",
       "      <td></td>\n",
       "      <td>I Forgot a book and I want to read it again</td>\n",
       "      <td>i forgot a book and i want to read it again</td>\n",
       "      <td>0</td>\n",
       "    </tr>\n",
       "  </tbody>\n",
       "</table>\n",
       "</div>"
      ],
      "text/plain": [
       "   pname   key                                            summary  \\\n",
       "0  Books  BK-1  In the Picture of Dorian Gray, do you think th...   \n",
       "1  Books  BK-2                                                 bb   \n",
       "2  Books  BK-3                 Need some advice from book experts   \n",
       "3  Books  BK-4  Can we talk about The Invisible Life Of Addie ...   \n",
       "4  Books  BK-5        I Forgot a book and I want to read it again   \n",
       "\n",
       "                                         description space  \\\n",
       "0                                                            \n",
       "1                                                            \n",
       "2  I got a lot of books at the moment and my book...         \n",
       "3  I want to preface this with saying that *The I...         \n",
       "4                                                            \n",
       "\n",
       "                                            features  \\\n",
       "0  In the Picture of Dorian Gray, do you think th...   \n",
       "1                                                bb    \n",
       "2  Need some advice from book experts I got a lot...   \n",
       "3  Can we talk about The Invisible Life Of Addie ...   \n",
       "4       I Forgot a book and I want to read it again    \n",
       "\n",
       "                                      features_fixed  label  \n",
       "0  in the picture of dorian gray, do you think th...      0  \n",
       "1                                                 bb      0  \n",
       "2  need some advice from book experts i got a lot...      0  \n",
       "3  can we talk about the invisible life of addie ...      0  \n",
       "4        i forgot a book and i want to read it again      0  "
      ]
     },
     "execution_count": 35,
     "metadata": {},
     "output_type": "execute_result"
    }
   ],
   "source": [
    "dataset.head()"
   ]
  },
  {
   "cell_type": "code",
   "execution_count": 36,
   "id": "great-desktop",
   "metadata": {},
   "outputs": [],
   "source": [
    "X = dataset['features_fixed']\n",
    "y = dataset['label']"
   ]
  },
  {
   "cell_type": "code",
   "execution_count": 37,
   "id": "waiting-mirror",
   "metadata": {},
   "outputs": [],
   "source": [
    "X_train, X_test, y_train, y_test = train_test_split(X, y, random_state=251)"
   ]
  },
  {
   "cell_type": "code",
   "execution_count": 38,
   "id": "small-citizen",
   "metadata": {},
   "outputs": [],
   "source": [
    "# using TfidfVectorizer and vectorizing both test and train data \n",
    "tf_vect = TfidfVectorizer(stop_words='english', max_features=1000)\n",
    "X_train_trans = tf_vect.fit_transform(X_train)\n",
    "X_test_trans = tf_vect.transform(X_test)\n",
    "X_train_trans = X_train_trans.toarray()\n",
    "X_test_trans = X_test_trans.toarray()"
   ]
  },
  {
   "cell_type": "code",
   "execution_count": 39,
   "id": "furnished-aluminum",
   "metadata": {},
   "outputs": [
    {
     "data": {
      "text/plain": [
       "((37500, 1000), (12500, 1000))"
      ]
     },
     "execution_count": 39,
     "metadata": {},
     "output_type": "execute_result"
    }
   ],
   "source": [
    "X_train_trans.shape, X_test_trans.shape"
   ]
  },
  {
   "cell_type": "code",
   "execution_count": 40,
   "id": "union-silly",
   "metadata": {},
   "outputs": [],
   "source": [
    "sscaler = StandardScaler(with_mean=False)\n",
    "model = KerasClassifier(build_fn=create_model, epochs=10, verbose=0)\n",
    "pipe = make_pipeline(sscaler,model)"
   ]
  },
  {
   "cell_type": "code",
   "execution_count": 42,
   "id": "outstanding-thunder",
   "metadata": {},
   "outputs": [
    {
     "name": "stdout",
     "output_type": "stream",
     "text": [
      "CPU times: user 27 s, sys: 4.72 s, total: 31.7 s\n",
      "Wall time: 13.1 s\n"
     ]
    },
    {
     "data": {
      "text/plain": [
       "Pipeline(steps=[('standardscaler', StandardScaler(with_mean=False)),\n",
       "                ('kerasclassifier',\n",
       "                 <tensorflow.python.keras.wrappers.scikit_learn.KerasClassifier object at 0x7fdd47d3a280>)])"
      ]
     },
     "execution_count": 42,
     "metadata": {},
     "output_type": "execute_result"
    }
   ],
   "source": [
    "%%time\n",
    "pipe.fit(X_train_trans, y_train)"
   ]
  },
  {
   "cell_type": "code",
   "execution_count": 43,
   "id": "arabic-joseph",
   "metadata": {},
   "outputs": [],
   "source": [
    "# setting params for grid search\n",
    "params = {'kerasclassifier__units': [64, 128, 256, 512],\n",
    "          'kerasclassifier__dropout':[0.2, 0.3, 0.4, 0.5],\n",
    "          'kerasclassifier__reg':['l2', None],\n",
    "         }\n",
    "grid = GridSearchCV(pipe, param_grid=params)"
   ]
  },
  {
   "cell_type": "code",
   "execution_count": 44,
   "id": "general-plant",
   "metadata": {},
   "outputs": [
    {
     "name": "stdout",
     "output_type": "stream",
     "text": [
      "CPU times: user 1h 5min 54s, sys: 10min 49s, total: 1h 16min 43s\n",
      "Wall time: 31min 36s\n"
     ]
    },
    {
     "data": {
      "text/plain": [
       "GridSearchCV(estimator=Pipeline(steps=[('standardscaler',\n",
       "                                        StandardScaler(with_mean=False)),\n",
       "                                       ('kerasclassifier',\n",
       "                                        <tensorflow.python.keras.wrappers.scikit_learn.KerasClassifier object at 0x7fdd47d3a280>)]),\n",
       "             param_grid={'kerasclassifier__dropout': [0.2, 0.3, 0.4, 0.5],\n",
       "                         'kerasclassifier__reg': ['l2', None],\n",
       "                         'kerasclassifier__units': [64, 128, 256, 512]})"
      ]
     },
     "execution_count": 44,
     "metadata": {},
     "output_type": "execute_result"
    }
   ],
   "source": [
    "%%time\n",
    "grid.fit(X_train_trans, y_train)"
   ]
  },
  {
   "cell_type": "code",
   "execution_count": null,
   "id": "portable-military",
   "metadata": {},
   "outputs": [],
   "source": [
    "\n",
    "# model_dict = {\n",
    "#     'LogisticRegression' : LogisticRegression(max_iter=1000, n_jobs=-1),\n",
    "#     'MultinomialNB' : MultinomialNB(),\n",
    "#     'RandomForest' : RandomForestClassifier(n_jobs=-1),\n",
    "#     'ExtraTrees' : ExtraTreesClassifier(n_jobs=-1),\n",
    "#     'K-NearestNeighbors' : KNeighborsClassifier(n_jobs=-1),\n",
    "#     'SVC' : SVC(),\n",
    "#     'AdaBoostClassifier' : AdaBoostClassifier(n_estimators=100),\n",
    "#     'GradientBoostingClassifier' : GradientBoostingClassifier()    \n",
    "# }"
   ]
  },
  {
   "cell_type": "code",
   "execution_count": 45,
   "id": "embedded-massage",
   "metadata": {},
   "outputs": [
    {
     "data": {
      "text/plain": [
       "0.8843466639518738"
      ]
     },
     "execution_count": 45,
     "metadata": {},
     "output_type": "execute_result"
    }
   ],
   "source": [
    "# get grid score for train\n",
    "grid.score(X_train_trans, y_train)"
   ]
  },
  {
   "cell_type": "code",
   "execution_count": 46,
   "id": "thermal-contemporary",
   "metadata": {},
   "outputs": [
    {
     "data": {
      "text/plain": [
       "0.8470399975776672"
      ]
     },
     "execution_count": 46,
     "metadata": {},
     "output_type": "execute_result"
    }
   ],
   "source": [
    "# get grid score for test\n",
    "grid.score(X_test_trans, y_test)"
   ]
  },
  {
   "cell_type": "code",
   "execution_count": 47,
   "id": "iraqi-capacity",
   "metadata": {},
   "outputs": [
    {
     "data": {
      "text/plain": [
       "{'kerasclassifier__dropout': 0.5,\n",
       " 'kerasclassifier__reg': 'l2',\n",
       " 'kerasclassifier__units': 64}"
      ]
     },
     "execution_count": 47,
     "metadata": {},
     "output_type": "execute_result"
    }
   ],
   "source": [
    "grid.best_params_"
   ]
  },
  {
   "cell_type": "code",
   "execution_count": 49,
   "id": "selected-karaoke",
   "metadata": {},
   "outputs": [
    {
     "name": "stderr",
     "output_type": "stream",
     "text": [
      "/home/babu/code/jupyterenvironment/lib/python3.8/site-packages/tensorflow/python/keras/engine/sequential.py:450: UserWarning: `model.predict_classes()` is deprecated and will be removed after 2021-01-01. Please use instead:* `np.argmax(model.predict(x), axis=-1)`,   if your model does multi-class classification   (e.g. if it uses a `softmax` last-layer activation).* `(model.predict(x) > 0.5).astype(\"int32\")`,   if your model does binary classification   (e.g. if it uses a `sigmoid` last-layer activation).\n",
      "  warnings.warn('`model.predict_classes()` is deprecated and '\n"
     ]
    }
   ],
   "source": [
    "predics =  grid.predict(X_test_trans)"
   ]
  },
  {
   "cell_type": "code",
   "execution_count": 84,
   "id": "comparative-float",
   "metadata": {},
   "outputs": [],
   "source": [
    "## grid.predict(['I died a little After I saw how my mom defrosting meat'])"
   ]
  },
  {
   "cell_type": "code",
   "execution_count": 50,
   "id": "nearby-northern",
   "metadata": {},
   "outputs": [
    {
     "data": {
      "text/plain": [
       "array([1849,   32,   68,  160,  370,   35, 2332,   27,   35,   52,   74,\n",
       "         20, 2121,   60,  163,  140,   13,   62, 1969,  344,   79,   11,\n",
       "         66,  101, 2317])"
      ]
     },
     "execution_count": 50,
     "metadata": {},
     "output_type": "execute_result"
    }
   ],
   "source": [
    "confusion_matrix(y_test, predics).ravel()"
   ]
  },
  {
   "cell_type": "code",
   "execution_count": 60,
   "id": "distant-confidence",
   "metadata": {},
   "outputs": [],
   "source": [
    "# # Generate other metrics \n",
    "# precision = tp / (tp+fp)\n",
    "# recall = tp / (tp+fn)\n",
    "# specificity = tn/(tn+fp)\n",
    "# balanced_accuracy = (specificity + recall)/2\n",
    "# ac = accuracy_score(y_test, predics)\n",
    "# fpr = fp / (fp+tn) # False Positive Rate \n",
    "# print(f\" Precision: {precision}\")\n",
    "# print(f\" Recall: {recall}\")\n",
    "# print(f\" Specificity: {recall}\")\n",
    "# print(f\" Balanced Accuracy: {balanced_accuracy}\")\n",
    "# print(f\" Accuracy Score: {ac}\")\n",
    "# print(f\" False Positive Rate : {fpr}\")"
   ]
  },
  {
   "cell_type": "code",
   "execution_count": null,
   "id": "ready-expression",
   "metadata": {},
   "outputs": [],
   "source": []
  },
  {
   "cell_type": "code",
   "execution_count": 67,
   "id": "external-certification",
   "metadata": {},
   "outputs": [],
   "source": [
    "from tensorflow.keras.models import Sequential\n",
    "from tensorflow.keras.layers import Input, Dense, BatchNormalization\n",
    "import tensorflow as tf"
   ]
  },
  {
   "cell_type": "code",
   "execution_count": 61,
   "id": "physical-petroleum",
   "metadata": {},
   "outputs": [],
   "source": [
    "dataset = pd.read_pickle(\"./data/dataset_df.pkl\")"
   ]
  },
  {
   "cell_type": "code",
   "execution_count": 62,
   "id": "jewish-cosmetic",
   "metadata": {},
   "outputs": [],
   "source": [
    "X = dataset['features_fixed']\n",
    "y = dataset['label']"
   ]
  },
  {
   "cell_type": "code",
   "execution_count": 69,
   "id": "settled-density",
   "metadata": {},
   "outputs": [],
   "source": [
    "y = tf.keras.utils.to_categorical(y) "
   ]
  },
  {
   "cell_type": "code",
   "execution_count": null,
   "id": "outer-bangkok",
   "metadata": {},
   "outputs": [],
   "source": []
  },
  {
   "cell_type": "code",
   "execution_count": 70,
   "id": "generic-theta",
   "metadata": {},
   "outputs": [],
   "source": [
    "X_train, X_test, y_train, y_test = train_test_split(X, y, random_state=251)"
   ]
  },
  {
   "cell_type": "code",
   "execution_count": 71,
   "id": "cardiac-coach",
   "metadata": {},
   "outputs": [],
   "source": [
    "# using TfidfVectorizer and vectorizing both test and train data \n",
    "tf_vect = TfidfVectorizer(stop_words='english', max_features=1000)\n",
    "X_train_trans = tf_vect.fit_transform(X_train)\n",
    "X_test_trans = tf_vect.transform(X_test)\n",
    "X_train_trans = X_train_trans.toarray()\n",
    "X_test_trans = X_test_trans.toarray()"
   ]
  },
  {
   "cell_type": "code",
   "execution_count": null,
   "id": "automotive-bridges",
   "metadata": {},
   "outputs": [],
   "source": []
  },
  {
   "cell_type": "code",
   "execution_count": null,
   "id": "unsigned-wedding",
   "metadata": {},
   "outputs": [],
   "source": []
  },
  {
   "cell_type": "code",
   "execution_count": 72,
   "id": "imperial-ecology",
   "metadata": {},
   "outputs": [],
   "source": [
    "sscaler = StandardScaler(with_mean=False)\n",
    "X_train_scaled = sscaler.fit_transform(X_train_trans)\n",
    "X_test_scaled = sscaler.transform(X_test_trans)"
   ]
  },
  {
   "cell_type": "code",
   "execution_count": 77,
   "id": "aware-marker",
   "metadata": {},
   "outputs": [],
   "source": [
    "model = Sequential()\n",
    "model.add(Dense(12, input_shape=(1000,), activation='relu'))\n",
    "model.add(BatchNormalization())\n",
    "model.add(Dense(128, activation='relu', kernel_regularizer = 'l2'))\n",
    "model.add(Dropout(0.5))\n",
    "model.add(Dense(5, activation='softmax')) # --> changed from sigmoid to softmax \n",
    "model.compile(loss='categorical_crossentropy', optimizer='adam', metrics=['accuracy','Recall'])"
   ]
  },
  {
   "cell_type": "code",
   "execution_count": 78,
   "id": "cosmetic-raising",
   "metadata": {},
   "outputs": [
    {
     "name": "stdout",
     "output_type": "stream",
     "text": [
      "Model: \"sequential_329\"\n",
      "_________________________________________________________________\n",
      "Layer (type)                 Output Shape              Param #   \n",
      "=================================================================\n",
      "dense_987 (Dense)            (None, 12)                12012     \n",
      "_________________________________________________________________\n",
      "batch_normalization_329 (Bat (None, 12)                48        \n",
      "_________________________________________________________________\n",
      "dense_988 (Dense)            (None, 128)               1664      \n",
      "_________________________________________________________________\n",
      "dropout_329 (Dropout)        (None, 128)               0         \n",
      "_________________________________________________________________\n",
      "dense_989 (Dense)            (None, 5)                 645       \n",
      "=================================================================\n",
      "Total params: 14,369\n",
      "Trainable params: 14,345\n",
      "Non-trainable params: 24\n",
      "_________________________________________________________________\n"
     ]
    }
   ],
   "source": [
    "model.summary()"
   ]
  },
  {
   "cell_type": "code",
   "execution_count": 79,
   "id": "joined-offset",
   "metadata": {},
   "outputs": [
    {
     "data": {
      "image/png": "[encoded data removed]",
      "text/plain": [
       "<IPython.core.display.Image object>"
      ]
     },
     "execution_count": 79,
     "metadata": {},
     "output_type": "execute_result"
    }
   ],
   "source": [
    "tf.keras.utils.plot_model(model, show_shapes=True)"
   ]
  },
  {
   "cell_type": "code",
   "execution_count": 80,
   "id": "missing-ensemble",
   "metadata": {},
   "outputs": [
    {
     "name": "stdout",
     "output_type": "stream",
     "text": [
      "Epoch 1/20\n",
      "1172/1172 [==============================] - 2s 2ms/step - loss: 1.0401 - accuracy: 0.6318 - recall: 0.4600 - val_loss: 0.4553 - val_accuracy: 0.8445 - val_recall: 0.7838\n",
      "Epoch 2/20\n",
      "1172/1172 [==============================] - 2s 1ms/step - loss: 0.4664 - accuracy: 0.8433 - recall: 0.7881 - val_loss: 0.4287 - val_accuracy: 0.8477 - val_recall: 0.7919\n",
      "Epoch 3/20\n",
      "1172/1172 [==============================] - 2s 1ms/step - loss: 0.4283 - accuracy: 0.8510 - recall: 0.7983 - val_loss: 0.4209 - val_accuracy: 0.8484 - val_recall: 0.8001\n",
      "Epoch 4/20\n",
      "1172/1172 [==============================] - 2s 1ms/step - loss: 0.4181 - accuracy: 0.8524 - recall: 0.7987 - val_loss: 0.4171 - val_accuracy: 0.8499 - val_recall: 0.7998\n",
      "Epoch 5/20\n",
      "1172/1172 [==============================] - 2s 1ms/step - loss: 0.4062 - accuracy: 0.8553 - recall: 0.8023 - val_loss: 0.4215 - val_accuracy: 0.8476 - val_recall: 0.7921\n",
      "Epoch 6/20\n",
      "1172/1172 [==============================] - 2s 1ms/step - loss: 0.3943 - accuracy: 0.8587 - recall: 0.8074 - val_loss: 0.4146 - val_accuracy: 0.8502 - val_recall: 0.7961\n",
      "Epoch 7/20\n",
      "1172/1172 [==============================] - 2s 1ms/step - loss: 0.3846 - accuracy: 0.8637 - recall: 0.8116 - val_loss: 0.4205 - val_accuracy: 0.8477 - val_recall: 0.8005\n",
      "Epoch 8/20\n",
      "1172/1172 [==============================] - 2s 1ms/step - loss: 0.3841 - accuracy: 0.8610 - recall: 0.8114 - val_loss: 0.4166 - val_accuracy: 0.8512 - val_recall: 0.8020\n",
      "Epoch 9/20\n",
      "1172/1172 [==============================] - 2s 1ms/step - loss: 0.3751 - accuracy: 0.8643 - recall: 0.8140 - val_loss: 0.4179 - val_accuracy: 0.8481 - val_recall: 0.8028\n",
      "Epoch 10/20\n",
      "1172/1172 [==============================] - 2s 1ms/step - loss: 0.3679 - accuracy: 0.8654 - recall: 0.8182 - val_loss: 0.4220 - val_accuracy: 0.8518 - val_recall: 0.8023\n",
      "Epoch 11/20\n",
      "1172/1172 [==============================] - 2s 1ms/step - loss: 0.3651 - accuracy: 0.8659 - recall: 0.8155 - val_loss: 0.4189 - val_accuracy: 0.8495 - val_recall: 0.8021\n",
      "Epoch 12/20\n",
      "1172/1172 [==============================] - 2s 1ms/step - loss: 0.3537 - accuracy: 0.8749 - recall: 0.8269 - val_loss: 0.4300 - val_accuracy: 0.8482 - val_recall: 0.8028\n",
      "Epoch 13/20\n",
      "1172/1172 [==============================] - 2s 1ms/step - loss: 0.3498 - accuracy: 0.8713 - recall: 0.8248 - val_loss: 0.4240 - val_accuracy: 0.8494 - val_recall: 0.8025\n",
      "Epoch 14/20\n",
      "1172/1172 [==============================] - 2s 1ms/step - loss: 0.3469 - accuracy: 0.8724 - recall: 0.8288 - val_loss: 0.4294 - val_accuracy: 0.8509 - val_recall: 0.8027\n",
      "Epoch 15/20\n",
      "1172/1172 [==============================] - 2s 1ms/step - loss: 0.3562 - accuracy: 0.8717 - recall: 0.8243 - val_loss: 0.4291 - val_accuracy: 0.8504 - val_recall: 0.8059\n",
      "Epoch 16/20\n",
      "1172/1172 [==============================] - 2s 1ms/step - loss: 0.3435 - accuracy: 0.8759 - recall: 0.8288 - val_loss: 0.4377 - val_accuracy: 0.8477 - val_recall: 0.8061\n",
      "Epoch 17/20\n",
      "1172/1172 [==============================] - 2s 1ms/step - loss: 0.3450 - accuracy: 0.8752 - recall: 0.8288 - val_loss: 0.4421 - val_accuracy: 0.8501 - val_recall: 0.8087\n",
      "Epoch 18/20\n",
      "1172/1172 [==============================] - 2s 1ms/step - loss: 0.3419 - accuracy: 0.8747 - recall: 0.8309 - val_loss: 0.4347 - val_accuracy: 0.8485 - val_recall: 0.8023\n",
      "Epoch 19/20\n",
      "1172/1172 [==============================] - 2s 1ms/step - loss: 0.3378 - accuracy: 0.8750 - recall: 0.8304 - val_loss: 0.4370 - val_accuracy: 0.8492 - val_recall: 0.8016\n",
      "Epoch 20/20\n",
      "1172/1172 [==============================] - 2s 1ms/step - loss: 0.3354 - accuracy: 0.8772 - recall: 0.8317 - val_loss: 0.4440 - val_accuracy: 0.8488 - val_recall: 0.7963\n"
     ]
    }
   ],
   "source": [
    "history = model.fit(X_train_trans, y_train, validation_data=(X_test_trans, y_test), epochs = 20, batch_size=32)"
   ]
  },
  {
   "cell_type": "code",
   "execution_count": 81,
   "id": "skilled-paradise",
   "metadata": {},
   "outputs": [
    {
     "data": {
      "text/plain": [
       "Text(0.5, 1.0, 'Results')"
      ]
     },
     "execution_count": 81,
     "metadata": {},
     "output_type": "execute_result"
    },
    {
     "data": {
      "image/png": "[encoded data removed]",
      "text/plain": [
       "<Figure size 432x288 with 1 Axes>"
      ]
     },
     "metadata": {
      "needs_background": "light"
     },
     "output_type": "display_data"
    }
   ],
   "source": [
    "plt.plot(history.history['val_recall'], label='Val Recall')\n",
    "plt.plot(history.history['recall'], label='Recall')\n",
    "plt.legend()\n",
    "plt.xlabel('Epoch')\n",
    "plt.ylabel('Recall')\n",
    "plt.title('Results')"
   ]
  },
  {
   "cell_type": "code",
   "execution_count": 85,
   "id": "sized-doctor",
   "metadata": {},
   "outputs": [],
   "source": [
    "# model.predict(['I died a little After I saw how my mom defrosting meat'])"
   ]
  },
  {
   "cell_type": "code",
   "execution_count": null,
   "id": "olive-finish",
   "metadata": {},
   "outputs": [],
   "source": []
  }
 ],
 "metadata": {
  "kernelspec": {
   "display_name": "Python 3",
   "language": "python",
   "name": "python3"
  },
  "language_info": {
   "codemirror_mode": {
    "name": "ipython",
    "version": 3
   },
   "file_extension": ".py",
   "mimetype": "text/x-python",
   "name": "python",
   "nbconvert_exporter": "python",
   "pygments_lexer": "ipython3",
   "version": "3.8.5"
  }
 },
 "nbformat": 4,
 "nbformat_minor": 5
}
