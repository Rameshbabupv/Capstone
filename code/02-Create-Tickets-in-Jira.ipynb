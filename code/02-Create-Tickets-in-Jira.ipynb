{
 "cells": [
  {
   "cell_type": "markdown",
   "id": "infectious-sydney",
   "metadata": {},
   "source": [
    "# Capstone Project - (02-Create-Ticket-in-jira)"
   ]
  },
  {
   "cell_type": "markdown",
   "id": "legendary-spider",
   "metadata": {},
   "source": [
    "### Author:  Ramesh Babu\n",
    "### Batch: DSI-11302020"
   ]
  },
  {
   "cell_type": "code",
   "execution_count": 3,
   "id": "sharing-bible",
   "metadata": {},
   "outputs": [],
   "source": [
    "#https://jira.readthedocs.io/en/latest/\n",
    "from jira import JIRA\n",
    "from datetime import datetime\n",
    "import time\n",
    "import pandas as pd\n",
    "pd.set_option('display.max_colwidth', None)\n",
    "\n",
    "# conda install jira\n"
   ]
  },
  {
   "cell_type": "code",
   "execution_count": 5,
   "id": "express-tractor",
   "metadata": {},
   "outputs": [
    {
     "name": "stdout",
     "output_type": "stream",
     "text": [
      "MOV-19586\n",
      "MOV\n",
      "Bug\n",
      "admin\n"
     ]
    }
   ],
   "source": [
    "# Check Jira connection running on ubuntu server\n",
    "jira = JIRA(basic_auth=('admin', 'password'), options={'server': 'http://192.168.2.209:8080/'})\n",
    "issue = jira.issue('MOV-19586')\n",
    "print(issue)\n",
    "print(issue.fields.project.key) \n",
    "print(issue.fields.issuetype.name) \n",
    "print(issue.fields.reporter.displayName)"
   ]
  },
  {
   "cell_type": "code",
   "execution_count": 6,
   "id": "olympic-happening",
   "metadata": {},
   "outputs": [
    {
     "data": {
      "text/plain": [
       "<JIRA Issue: key='TP-17', id='199920'>"
      ]
     },
     "execution_count": 6,
     "metadata": {},
     "output_type": "execute_result"
    }
   ],
   "source": [
    "# test creating ticket in Testing project \n",
    "new_issue = jira.create_issue(project='TP', \n",
    "                              issuetype = {'name': 'Bug'},\n",
    "                              summary = 'New issue from jira-python',\n",
    "                              description = 'Look into this one', \n",
    "                              customfield_10205 = '1613647784',\n",
    "                              customfield_10203 = 'lhkv3x',\n",
    "                              customfield_10204 = 'https://www.reddit.com/r/PoliticalDiscussion/comments/liss8m/why_are_illegal_immigrants_counted_for_district/',\n",
    "                              customfield_10206 = \"2021-02-21T18:02:14.000-0500\"\n",
    "                                                   \n",
    "                              )\n",
    "new_issue"
   ]
  },
  {
   "cell_type": "code",
   "execution_count": 7,
   "id": "composite-torture",
   "metadata": {},
   "outputs": [],
   "source": [
    "# df = pd.read_csv('data/MachineLearning_1613171340.csv')\n",
    "# Cooking_1614479417.csv\t\n",
    "# MachineLearning_1614415561.csv\t\n",
    "# PoliticalDiscussion_1614348717.csv  \n",
    "# books_1614704119.csv  \n",
    "# movies_1614724349.cs\n",
    "\n",
    "df = pd.read_csv('../data/PoliticalDiscussion_1614348717.csv' )"
   ]
  },
  {
   "cell_type": "code",
   "execution_count": 8,
   "id": "hearing-recommendation",
   "metadata": {},
   "outputs": [
    {
     "name": "stdout",
     "output_type": "stream",
     "text": [
      "CPU times: user 8 µs, sys: 1 µs, total: 9 µs\n",
      "Wall time: 15.3 µs\n"
     ]
    }
   ],
   "source": [
    "%%time\n",
    "def create_ticket(title, desc, created_utc, created_gmt, reddit_ID, reddit_url):\n",
    "    issue_dict = {\n",
    "        'project': 'PD',\n",
    "        'issuetype': {'name': 'Bug'},\n",
    "        'summary': title,\n",
    "        'description': desc,\n",
    "        'customfield_10205': created_utc,\n",
    "        'customfield_10206': created_gmt,\n",
    "        'customfield_10203' : reddit_ID,\n",
    "        'customfield_10204' :reddit_url\n",
    "    }\n",
    "    new_issue = jira.create_issue(fields=issue_dict)\n",
    "    print (new_issue)"
   ]
  },
  {
   "cell_type": "code",
   "execution_count": 9,
   "id": "spanish-retailer",
   "metadata": {},
   "outputs": [
    {
     "name": "stdout",
     "output_type": "stream",
     "text": [
      "PD-10194\n",
      "PD-10195\n",
      "PD-10196\n",
      "PD-10197\n",
      "PD-10198\n",
      "PD-10199\n",
      "PD-10200\n",
      "PD-10201\n",
      "PD-10202\n",
      "PD-10203\n",
      "PD-10204\n",
      "PD-10205\n",
      "PD-10206\n",
      "PD-10207\n",
      "PD-10208\n",
      "PD-10209\n",
      "PD-10210\n",
      "PD-10211\n",
      "PD-10212\n",
      "PD-10213\n",
      "PD-10214\n",
      "PD-10215\n",
      "PD-10216\n",
      "PD-10217\n",
      "PD-10218\n",
      "PD-10219\n",
      "PD-10220\n",
      "PD-10221\n",
      "PD-10222\n",
      "PD-10223\n",
      "PD-10224\n",
      "PD-10225\n",
      "PD-10226\n",
      "PD-10227\n",
      "PD-10228\n",
      "PD-10229\n",
      "PD-10230\n",
      "PD-10231\n",
      "PD-10232\n",
      "PD-10233\n",
      "PD-10234\n",
      "PD-10235\n",
      "PD-10236\n",
      "PD-10237\n",
      "PD-10238\n",
      "PD-10239\n",
      "PD-10240\n",
      "PD-10241\n",
      "PD-10242\n",
      "PD-10243\n",
      "PD-10244\n",
      "PD-10245\n",
      "PD-10246\n",
      "PD-10247\n",
      "PD-10248\n",
      "PD-10249\n",
      "PD-10250\n",
      "PD-10251\n",
      "PD-10252\n",
      "PD-10253\n",
      "PD-10254\n",
      "PD-10255\n",
      "PD-10256\n",
      "PD-10257\n",
      "PD-10258\n",
      "PD-10259\n",
      "PD-10260\n",
      "PD-10261\n",
      "PD-10262\n",
      "PD-10263\n",
      "PD-10264\n",
      "PD-10265\n",
      "PD-10266\n",
      "PD-10267\n",
      "PD-10268\n",
      "PD-10269\n",
      "PD-10270\n",
      "PD-10271\n",
      "PD-10272\n",
      "PD-10273\n",
      "PD-10274\n",
      "PD-10275\n",
      "PD-10276\n",
      "PD-10277\n",
      "PD-10278\n",
      "PD-10279\n",
      "PD-10280\n",
      "PD-10281\n",
      "PD-10282\n",
      "PD-10283\n",
      "PD-10284\n",
      "PD-10285\n",
      "PD-10286\n",
      "PD-10287\n",
      "PD-10288\n",
      "PD-10289\n",
      "PD-10290\n",
      "PD-10291\n",
      "PD-10292\n",
      "PD-10293\n",
      "CPU times: user 2.67 s, sys: 175 ms, total: 2.84 s\n",
      "Wall time: 2min 27s\n"
     ]
    }
   ],
   "source": [
    "%%time\n",
    "for index, row in df.iterrows():\n",
    "    title = str(\"\")\n",
    "    desc = str(\"\")\n",
    "    if len(row['title']) >= 255:\n",
    "        title = row['title'][0:250]\n",
    "        desc = row['title'][250:-1]\n",
    "    else:\n",
    "        title = row['title']\n",
    "        \n",
    "    if(row['selftext'] == '[removed]'):\n",
    "        desc = desc + str(\"\")\n",
    "    else:\n",
    "        desc = desc +str(\"\") + str(row['selftext'])\n",
    "        \n",
    "        \n",
    "    created_gmt = time.strftime('%Y-%m-%yT%H:%m:%S.000%z', time.gmtime(row['created_utc']))\n",
    "    # create_ticket(title, desc, str(row['created_utc']), created_gmt, row['id'], row['full_link'])\n",
    "    \n",
    "    try:\n",
    "        create_ticket(title, desc, str(row['created_utc']), created_gmt, row['id'], row['full_link'])\n",
    "\n",
    "    except Exception as e:\n",
    "        print( \"<p>Error: %s</p>\" % str(e) )\n",
    "#     finally:\n",
    "#         print(\"The 'try except' is finished\")"
   ]
  },
  {
   "cell_type": "code",
   "execution_count": null,
   "id": "tropical-webcam",
   "metadata": {},
   "outputs": [],
   "source": []
  },
  {
   "cell_type": "code",
   "execution_count": null,
   "id": "armed-cannon",
   "metadata": {},
   "outputs": [],
   "source": []
  },
  {
   "cell_type": "code",
   "execution_count": null,
   "id": "organic-sacrifice",
   "metadata": {},
   "outputs": [],
   "source": []
  },
  {
   "cell_type": "code",
   "execution_count": null,
   "id": "unavailable-correction",
   "metadata": {},
   "outputs": [],
   "source": []
  },
  {
   "cell_type": "code",
   "execution_count": null,
   "id": "listed-right",
   "metadata": {},
   "outputs": [],
   "source": []
  },
  {
   "cell_type": "code",
   "execution_count": null,
   "id": "characteristic-necessity",
   "metadata": {},
   "outputs": [],
   "source": []
  },
  {
   "cell_type": "code",
   "execution_count": null,
   "id": "unnecessary-artist",
   "metadata": {},
   "outputs": [],
   "source": []
  },
  {
   "cell_type": "code",
   "execution_count": null,
   "id": "alternate-spectrum",
   "metadata": {},
   "outputs": [],
   "source": []
  }
 ],
 "metadata": {
  "kernelspec": {
   "display_name": "Python 3",
   "language": "python",
   "name": "python3"
  },
  "language_info": {
   "codemirror_mode": {
    "name": "ipython",
    "version": 3
   },
   "file_extension": ".py",
   "mimetype": "text/x-python",
   "name": "python",
   "nbconvert_exporter": "python",
   "pygments_lexer": "ipython3",
   "version": "3.8.5"
  }
 },
 "nbformat": 4,
 "nbformat_minor": 5
}
