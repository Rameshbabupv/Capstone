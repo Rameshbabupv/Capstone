{
 "cells": [
  {
   "cell_type": "code",
   "execution_count": 1,
   "id": "directed-forwarding",
   "metadata": {},
   "outputs": [],
   "source": [
    "## Import need packages \n",
    "from keras.wrappers.scikit_learn import KerasClassifier\n",
    "import pandas as pd\n",
    "import numpy as np\n",
    "import seaborn as sns\n",
    "\n",
    "from keras.models import Sequential\n",
    "from keras.layers import Dense, BatchNormalization,Dropout\n",
    "\n",
    "from sklearn.model_selection import GridSearchCV, train_test_split\n",
    "from sklearn.pipeline import make_pipeline\n",
    "from sklearn.preprocessing import StandardScaler\n",
    "from sklearn.feature_extraction.text import CountVectorizer, TfidfVectorizer\n",
    "from sklearn.metrics import plot_confusion_matrix, confusion_matrix\n",
    "from sklearn.metrics import accuracy_score, balanced_accuracy_score\n",
    "from sklearn.preprocessing import StandardScaler\n",
    "import matplotlib.pyplot as plt\n",
    "\n",
    "from tensorflow.keras.models import Sequential\n",
    "from tensorflow.keras.layers import Input, Dense, BatchNormalization\n",
    "import tensorflow as tf\n",
    "from keras.models import Sequential\n",
    "from keras.layers import SimpleRNN, LSTM, GRU, Dense\n",
    "\n",
    "from keras.preprocessing.text import Tokenizer\n",
    "from keras.layers import Embedding\n",
    "from keras.layers import Conv1D, MaxPooling1D, GlobalMaxPooling1D\n",
    "\n",
    "import matplotlib.pyplot as plt\n",
    "from keras.preprocessing.sequence import pad_sequences\n",
    "from sklearn.metrics import confusion_matrix\n"
   ]
  },
  {
   "cell_type": "code",
   "execution_count": null,
   "id": "grateful-casting",
   "metadata": {},
   "outputs": [],
   "source": []
  },
  {
   "cell_type": "code",
   "execution_count": 2,
   "id": "phantom-capitol",
   "metadata": {},
   "outputs": [],
   "source": [
    "dataset = pd.read_csv('../data/dataFrame.csv', index_col = False)\n",
    "#dataset = pd.read_csv('../data/dataFrame.csv')"
   ]
  },
  {
   "cell_type": "code",
   "execution_count": 3,
   "id": "quality-reply",
   "metadata": {},
   "outputs": [],
   "source": [
    "# dataset = pd.read_pickle(\"../data/dataset_df.pkl\")"
   ]
  },
  {
   "cell_type": "code",
   "execution_count": 4,
   "id": "natural-wisdom",
   "metadata": {},
   "outputs": [
    {
     "data": {
      "text/html": [
       "<div>\n",
       "<style scoped>\n",
       "    .dataframe tbody tr th:only-of-type {\n",
       "        vertical-align: middle;\n",
       "    }\n",
       "\n",
       "    .dataframe tbody tr th {\n",
       "        vertical-align: top;\n",
       "    }\n",
       "\n",
       "    .dataframe thead th {\n",
       "        text-align: right;\n",
       "    }\n",
       "</style>\n",
       "<table border=\"1\" class=\"dataframe\">\n",
       "  <thead>\n",
       "    <tr style=\"text-align: right;\">\n",
       "      <th></th>\n",
       "      <th>Unnamed: 0</th>\n",
       "      <th>pname</th>\n",
       "      <th>key</th>\n",
       "      <th>summary</th>\n",
       "      <th>description</th>\n",
       "      <th>space</th>\n",
       "      <th>features</th>\n",
       "      <th>features_fixed</th>\n",
       "      <th>label</th>\n",
       "    </tr>\n",
       "  </thead>\n",
       "  <tbody>\n",
       "    <tr>\n",
       "      <th>0</th>\n",
       "      <td>0</td>\n",
       "      <td>Books</td>\n",
       "      <td>BK-1</td>\n",
       "      <td>In the Picture of Dorian Gray, do you think th...</td>\n",
       "      <td>NaN</td>\n",
       "      <td></td>\n",
       "      <td>In the Picture of Dorian Gray, do you think th...</td>\n",
       "      <td>in the picture of dorian gray, do you think th...</td>\n",
       "      <td>0</td>\n",
       "    </tr>\n",
       "    <tr>\n",
       "      <th>1</th>\n",
       "      <td>1</td>\n",
       "      <td>Books</td>\n",
       "      <td>BK-2</td>\n",
       "      <td>bb</td>\n",
       "      <td>NaN</td>\n",
       "      <td></td>\n",
       "      <td>bb</td>\n",
       "      <td>bb</td>\n",
       "      <td>0</td>\n",
       "    </tr>\n",
       "    <tr>\n",
       "      <th>2</th>\n",
       "      <td>2</td>\n",
       "      <td>Books</td>\n",
       "      <td>BK-3</td>\n",
       "      <td>Need some advice from book experts</td>\n",
       "      <td>I got a lot of books at the moment and my book...</td>\n",
       "      <td></td>\n",
       "      <td>Need some advice from book experts I got a lot...</td>\n",
       "      <td>need some advice from book experts i got a lot...</td>\n",
       "      <td>0</td>\n",
       "    </tr>\n",
       "    <tr>\n",
       "      <th>3</th>\n",
       "      <td>3</td>\n",
       "      <td>Books</td>\n",
       "      <td>BK-4</td>\n",
       "      <td>Can we talk about The Invisible Life Of Addie ...</td>\n",
       "      <td>I want to preface this with saying that *The I...</td>\n",
       "      <td></td>\n",
       "      <td>Can we talk about The Invisible Life Of Addie ...</td>\n",
       "      <td>can we talk about the invisible life of addie ...</td>\n",
       "      <td>0</td>\n",
       "    </tr>\n",
       "    <tr>\n",
       "      <th>4</th>\n",
       "      <td>4</td>\n",
       "      <td>Books</td>\n",
       "      <td>BK-5</td>\n",
       "      <td>I Forgot a book and I want to read it again</td>\n",
       "      <td>NaN</td>\n",
       "      <td></td>\n",
       "      <td>I Forgot a book and I want to read it again</td>\n",
       "      <td>i forgot a book and i want to read it again</td>\n",
       "      <td>0</td>\n",
       "    </tr>\n",
       "    <tr>\n",
       "      <th>...</th>\n",
       "      <td>...</td>\n",
       "      <td>...</td>\n",
       "      <td>...</td>\n",
       "      <td>...</td>\n",
       "      <td>...</td>\n",
       "      <td>...</td>\n",
       "      <td>...</td>\n",
       "      <td>...</td>\n",
       "      <td>...</td>\n",
       "    </tr>\n",
       "    <tr>\n",
       "      <th>49995</th>\n",
       "      <td>49995</td>\n",
       "      <td>Political Discussion</td>\n",
       "      <td>PD-9996</td>\n",
       "      <td>How has President Trump used Implicit and Expl...</td>\n",
       "      <td>NaN</td>\n",
       "      <td></td>\n",
       "      <td>How has President Trump used Implicit and Expl...</td>\n",
       "      <td>how has president trump used implicit and expl...</td>\n",
       "      <td>4</td>\n",
       "    </tr>\n",
       "    <tr>\n",
       "      <th>49996</th>\n",
       "      <td>49996</td>\n",
       "      <td>Political Discussion</td>\n",
       "      <td>PD-9997</td>\n",
       "      <td>Is anyone else angry about how many people cou...</td>\n",
       "      <td>NaN</td>\n",
       "      <td></td>\n",
       "      <td>Is anyone else angry about how many people cou...</td>\n",
       "      <td>is anyone else angry about how many people cou...</td>\n",
       "      <td>4</td>\n",
       "    </tr>\n",
       "    <tr>\n",
       "      <th>49997</th>\n",
       "      <td>49997</td>\n",
       "      <td>Political Discussion</td>\n",
       "      <td>PD-9998</td>\n",
       "      <td>To communist living in non communist countries...</td>\n",
       "      <td>NaN</td>\n",
       "      <td></td>\n",
       "      <td>To communist living in non communist countries...</td>\n",
       "      <td>to communist living in non communist countries...</td>\n",
       "      <td>4</td>\n",
       "    </tr>\n",
       "    <tr>\n",
       "      <th>49998</th>\n",
       "      <td>49998</td>\n",
       "      <td>Political Discussion</td>\n",
       "      <td>PD-9999</td>\n",
       "      <td>Do you think politics have become less of civi...</td>\n",
       "      <td>NaN</td>\n",
       "      <td></td>\n",
       "      <td>Do you think politics have become less of civi...</td>\n",
       "      <td>do you think politics have become less of civi...</td>\n",
       "      <td>4</td>\n",
       "    </tr>\n",
       "    <tr>\n",
       "      <th>49999</th>\n",
       "      <td>49999</td>\n",
       "      <td>Political Discussion</td>\n",
       "      <td>PD-10000</td>\n",
       "      <td>A conversation about gender - I would love inp...</td>\n",
       "      <td>NaN</td>\n",
       "      <td></td>\n",
       "      <td>A conversation about gender - I would love inp...</td>\n",
       "      <td>a conversation about gender i would love input...</td>\n",
       "      <td>4</td>\n",
       "    </tr>\n",
       "  </tbody>\n",
       "</table>\n",
       "<p>50000 rows × 9 columns</p>\n",
       "</div>"
      ],
      "text/plain": [
       "       Unnamed: 0                 pname       key  \\\n",
       "0               0                 Books      BK-1   \n",
       "1               1                 Books      BK-2   \n",
       "2               2                 Books      BK-3   \n",
       "3               3                 Books      BK-4   \n",
       "4               4                 Books      BK-5   \n",
       "...           ...                   ...       ...   \n",
       "49995       49995  Political Discussion   PD-9996   \n",
       "49996       49996  Political Discussion   PD-9997   \n",
       "49997       49997  Political Discussion   PD-9998   \n",
       "49998       49998  Political Discussion   PD-9999   \n",
       "49999       49999  Political Discussion  PD-10000   \n",
       "\n",
       "                                                 summary  \\\n",
       "0      In the Picture of Dorian Gray, do you think th...   \n",
       "1                                                     bb   \n",
       "2                     Need some advice from book experts   \n",
       "3      Can we talk about The Invisible Life Of Addie ...   \n",
       "4            I Forgot a book and I want to read it again   \n",
       "...                                                  ...   \n",
       "49995  How has President Trump used Implicit and Expl...   \n",
       "49996  Is anyone else angry about how many people cou...   \n",
       "49997  To communist living in non communist countries...   \n",
       "49998  Do you think politics have become less of civi...   \n",
       "49999  A conversation about gender - I would love inp...   \n",
       "\n",
       "                                             description space  \\\n",
       "0                                                    NaN         \n",
       "1                                                    NaN         \n",
       "2      I got a lot of books at the moment and my book...         \n",
       "3      I want to preface this with saying that *The I...         \n",
       "4                                                    NaN         \n",
       "...                                                  ...   ...   \n",
       "49995                                                NaN         \n",
       "49996                                                NaN         \n",
       "49997                                                NaN         \n",
       "49998                                                NaN         \n",
       "49999                                                NaN         \n",
       "\n",
       "                                                features  \\\n",
       "0      In the Picture of Dorian Gray, do you think th...   \n",
       "1                                                    bb    \n",
       "2      Need some advice from book experts I got a lot...   \n",
       "3      Can we talk about The Invisible Life Of Addie ...   \n",
       "4           I Forgot a book and I want to read it again    \n",
       "...                                                  ...   \n",
       "49995  How has President Trump used Implicit and Expl...   \n",
       "49996  Is anyone else angry about how many people cou...   \n",
       "49997  To communist living in non communist countries...   \n",
       "49998  Do you think politics have become less of civi...   \n",
       "49999  A conversation about gender - I would love inp...   \n",
       "\n",
       "                                          features_fixed  label  \n",
       "0      in the picture of dorian gray, do you think th...      0  \n",
       "1                                                     bb      0  \n",
       "2      need some advice from book experts i got a lot...      0  \n",
       "3      can we talk about the invisible life of addie ...      0  \n",
       "4            i forgot a book and i want to read it again      0  \n",
       "...                                                  ...    ...  \n",
       "49995  how has president trump used implicit and expl...      4  \n",
       "49996  is anyone else angry about how many people cou...      4  \n",
       "49997  to communist living in non communist countries...      4  \n",
       "49998  do you think politics have become less of civi...      4  \n",
       "49999  a conversation about gender i would love input...      4  \n",
       "\n",
       "[50000 rows x 9 columns]"
      ]
     },
     "execution_count": 4,
     "metadata": {},
     "output_type": "execute_result"
    }
   ],
   "source": [
    "dataset"
   ]
  },
  {
   "cell_type": "code",
   "execution_count": 5,
   "id": "located-protein",
   "metadata": {},
   "outputs": [
    {
     "data": {
      "text/html": [
       "<div>\n",
       "<style scoped>\n",
       "    .dataframe tbody tr th:only-of-type {\n",
       "        vertical-align: middle;\n",
       "    }\n",
       "\n",
       "    .dataframe tbody tr th {\n",
       "        vertical-align: top;\n",
       "    }\n",
       "\n",
       "    .dataframe thead th {\n",
       "        text-align: right;\n",
       "    }\n",
       "</style>\n",
       "<table border=\"1\" class=\"dataframe\">\n",
       "  <thead>\n",
       "    <tr style=\"text-align: right;\">\n",
       "      <th></th>\n",
       "      <th>Unnamed: 0</th>\n",
       "      <th>pname</th>\n",
       "      <th>key</th>\n",
       "      <th>summary</th>\n",
       "      <th>description</th>\n",
       "      <th>space</th>\n",
       "      <th>features</th>\n",
       "      <th>features_fixed</th>\n",
       "      <th>label</th>\n",
       "    </tr>\n",
       "  </thead>\n",
       "  <tbody>\n",
       "    <tr>\n",
       "      <th>0</th>\n",
       "      <td>0</td>\n",
       "      <td>Books</td>\n",
       "      <td>BK-1</td>\n",
       "      <td>In the Picture of Dorian Gray, do you think th...</td>\n",
       "      <td>NaN</td>\n",
       "      <td></td>\n",
       "      <td>In the Picture of Dorian Gray, do you think th...</td>\n",
       "      <td>in the picture of dorian gray, do you think th...</td>\n",
       "      <td>0</td>\n",
       "    </tr>\n",
       "    <tr>\n",
       "      <th>1</th>\n",
       "      <td>1</td>\n",
       "      <td>Books</td>\n",
       "      <td>BK-2</td>\n",
       "      <td>bb</td>\n",
       "      <td>NaN</td>\n",
       "      <td></td>\n",
       "      <td>bb</td>\n",
       "      <td>bb</td>\n",
       "      <td>0</td>\n",
       "    </tr>\n",
       "    <tr>\n",
       "      <th>2</th>\n",
       "      <td>2</td>\n",
       "      <td>Books</td>\n",
       "      <td>BK-3</td>\n",
       "      <td>Need some advice from book experts</td>\n",
       "      <td>I got a lot of books at the moment and my book...</td>\n",
       "      <td></td>\n",
       "      <td>Need some advice from book experts I got a lot...</td>\n",
       "      <td>need some advice from book experts i got a lot...</td>\n",
       "      <td>0</td>\n",
       "    </tr>\n",
       "    <tr>\n",
       "      <th>3</th>\n",
       "      <td>3</td>\n",
       "      <td>Books</td>\n",
       "      <td>BK-4</td>\n",
       "      <td>Can we talk about The Invisible Life Of Addie ...</td>\n",
       "      <td>I want to preface this with saying that *The I...</td>\n",
       "      <td></td>\n",
       "      <td>Can we talk about The Invisible Life Of Addie ...</td>\n",
       "      <td>can we talk about the invisible life of addie ...</td>\n",
       "      <td>0</td>\n",
       "    </tr>\n",
       "    <tr>\n",
       "      <th>4</th>\n",
       "      <td>4</td>\n",
       "      <td>Books</td>\n",
       "      <td>BK-5</td>\n",
       "      <td>I Forgot a book and I want to read it again</td>\n",
       "      <td>NaN</td>\n",
       "      <td></td>\n",
       "      <td>I Forgot a book and I want to read it again</td>\n",
       "      <td>i forgot a book and i want to read it again</td>\n",
       "      <td>0</td>\n",
       "    </tr>\n",
       "  </tbody>\n",
       "</table>\n",
       "</div>"
      ],
      "text/plain": [
       "   Unnamed: 0  pname   key                                            summary  \\\n",
       "0           0  Books  BK-1  In the Picture of Dorian Gray, do you think th...   \n",
       "1           1  Books  BK-2                                                 bb   \n",
       "2           2  Books  BK-3                 Need some advice from book experts   \n",
       "3           3  Books  BK-4  Can we talk about The Invisible Life Of Addie ...   \n",
       "4           4  Books  BK-5        I Forgot a book and I want to read it again   \n",
       "\n",
       "                                         description space  \\\n",
       "0                                                NaN         \n",
       "1                                                NaN         \n",
       "2  I got a lot of books at the moment and my book...         \n",
       "3  I want to preface this with saying that *The I...         \n",
       "4                                                NaN         \n",
       "\n",
       "                                            features  \\\n",
       "0  In the Picture of Dorian Gray, do you think th...   \n",
       "1                                                bb    \n",
       "2  Need some advice from book experts I got a lot...   \n",
       "3  Can we talk about The Invisible Life Of Addie ...   \n",
       "4       I Forgot a book and I want to read it again    \n",
       "\n",
       "                                      features_fixed  label  \n",
       "0  in the picture of dorian gray, do you think th...      0  \n",
       "1                                                 bb      0  \n",
       "2  need some advice from book experts i got a lot...      0  \n",
       "3  can we talk about the invisible life of addie ...      0  \n",
       "4        i forgot a book and i want to read it again      0  "
      ]
     },
     "execution_count": 5,
     "metadata": {},
     "output_type": "execute_result"
    }
   ],
   "source": [
    "dataset.head()"
   ]
  },
  {
   "cell_type": "code",
   "execution_count": 6,
   "id": "signal-devil",
   "metadata": {},
   "outputs": [],
   "source": [
    "X = dataset['features_fixed'].astype('str')\n",
    "y = dataset['label']\n",
    "y = tf.keras.utils.to_categorical(y) "
   ]
  },
  {
   "cell_type": "code",
   "execution_count": 7,
   "id": "computational-circle",
   "metadata": {},
   "outputs": [
    {
     "data": {
      "text/plain": [
       "array([[1., 0., 0., 0., 0.],\n",
       "       [1., 0., 0., 0., 0.],\n",
       "       [1., 0., 0., 0., 0.],\n",
       "       ...,\n",
       "       [0., 0., 0., 0., 1.],\n",
       "       [0., 0., 0., 0., 1.],\n",
       "       [0., 0., 0., 0., 1.]], dtype=float32)"
      ]
     },
     "execution_count": 7,
     "metadata": {},
     "output_type": "execute_result"
    }
   ],
   "source": [
    "y"
   ]
  },
  {
   "cell_type": "code",
   "execution_count": 8,
   "id": "recorded-warrant",
   "metadata": {},
   "outputs": [],
   "source": [
    "X_train, X_test, y_train, y_test = train_test_split(X, y, random_state=251)"
   ]
  },
  {
   "cell_type": "code",
   "execution_count": 9,
   "id": "asian-connection",
   "metadata": {},
   "outputs": [],
   "source": [
    "# from keras.preprocessing.sequence import TimeseriesGenerator\n",
    "# train_sequences = TimeseriesGenerator(x_train, y_train, length = 3)\n",
    "# batch_x, batch_y = train_sequences[0]\n",
    "# batch_x.shape\n",
    "# test_sequences = TimeseriesGenerator(x_test, y_test, length = 3)"
   ]
  },
  {
   "cell_type": "code",
   "execution_count": 10,
   "id": "filled-celebrity",
   "metadata": {},
   "outputs": [
    {
     "data": {
      "text/plain": [
       "((37500,), (12500,), (37500, 5), (12500, 5))"
      ]
     },
     "execution_count": 10,
     "metadata": {},
     "output_type": "execute_result"
    }
   ],
   "source": [
    "X_train.shape, X_test.shape, y_train.shape, y_test.shape\n"
   ]
  },
  {
   "cell_type": "code",
   "execution_count": 11,
   "id": "satellite-newman",
   "metadata": {},
   "outputs": [],
   "source": [
    "# # using TfidfVectorizer and vectorizing both test and train data \n",
    "# tf_vect = TfidfVectorizer(stop_words='english', max_features=1000)\n",
    "# X_train_trans = tf_vect.fit_transform(X_train)\n",
    "# X_test_trans = tf_vect.transform(X_test)\n",
    "# X_train_trans = X_train_trans.toarray()\n",
    "# X_test_trans = X_test_trans.toarray()"
   ]
  },
  {
   "cell_type": "code",
   "execution_count": 12,
   "id": "average-belfast",
   "metadata": {},
   "outputs": [],
   "source": [
    "tokenizer = Tokenizer(1000)\n",
    "# tokenizer.fit_on_texts(X_train.iloc[:37500])\n",
    "tokenizer.fit_on_texts(X_train)\n",
    "\n",
    "x_train = tokenizer.texts_to_sequences(X_train)\n",
    "x_test = tokenizer.texts_to_sequences(X_test)\n",
    "\n",
    "x_train = pad_sequences(x_train, maxlen = 100)\n",
    "x_test = pad_sequences(x_test, maxlen = 100)"
   ]
  },
  {
   "cell_type": "code",
   "execution_count": 13,
   "id": "deluxe-width",
   "metadata": {},
   "outputs": [
    {
     "data": {
      "text/plain": [
       "(37500, 100)"
      ]
     },
     "execution_count": 13,
     "metadata": {},
     "output_type": "execute_result"
    }
   ],
   "source": [
    "x_train.shape"
   ]
  },
  {
   "cell_type": "code",
   "execution_count": 49,
   "id": "centered-baghdad",
   "metadata": {},
   "outputs": [
    {
     "name": "stdout",
     "output_type": "stream",
     "text": [
      "Epoch 1/30\n",
      "1172/1172 [==============================] - 18s 15ms/step - loss: 0.9959 - accuracy: 0.6107 - recall: 0.4454 - val_loss: 0.6534 - val_accuracy: 0.7627 - val_recall: 0.6909\n",
      "Epoch 2/30\n",
      "1172/1172 [==============================] - 17s 15ms/step - loss: 0.7191 - accuracy: 0.7401 - recall: 0.6633 - val_loss: 0.7871 - val_accuracy: 0.7088 - val_recall: 0.5968\n",
      "Epoch 3/30\n",
      "1172/1172 [==============================] - 17s 15ms/step - loss: 0.7903 - accuracy: 0.7067 - recall: 0.6039 - val_loss: 0.8519 - val_accuracy: 0.6735 - val_recall: 0.5612\n",
      "Epoch 4/30\n",
      "1172/1172 [==============================] - 17s 15ms/step - loss: 0.6963 - accuracy: 0.7438 - recall: 0.6596 - val_loss: 0.6061 - val_accuracy: 0.7770 - val_recall: 0.7012\n",
      "Epoch 5/30\n",
      "1172/1172 [==============================] - 17s 15ms/step - loss: 0.9090 - accuracy: 0.6520 - recall: 0.5124 - val_loss: 0.9754 - val_accuracy: 0.6178 - val_recall: 0.4510\n",
      "Epoch 6/30\n",
      "1172/1172 [==============================] - 17s 15ms/step - loss: 0.9818 - accuracy: 0.6136 - recall: 0.4474 - val_loss: 0.9627 - val_accuracy: 0.6207 - val_recall: 0.4733\n",
      "Epoch 7/30\n",
      "1172/1172 [==============================] - 17s 15ms/step - loss: 0.8457 - accuracy: 0.6740 - recall: 0.5514 - val_loss: 0.8244 - val_accuracy: 0.6863 - val_recall: 0.5850\n",
      "Epoch 8/30\n",
      "1172/1172 [==============================] - 17s 15ms/step - loss: 0.7754 - accuracy: 0.7131 - recall: 0.6167 - val_loss: 0.7659 - val_accuracy: 0.7100 - val_recall: 0.6174\n",
      "Epoch 9/30\n",
      "1172/1172 [==============================] - 17s 15ms/step - loss: 0.8348 - accuracy: 0.6907 - recall: 0.5823 - val_loss: 0.7333 - val_accuracy: 0.7410 - val_recall: 0.6903\n",
      "Epoch 10/30\n",
      "1172/1172 [==============================] - 17s 15ms/step - loss: 0.8106 - accuracy: 0.7008 - recall: 0.6065 - val_loss: 0.7998 - val_accuracy: 0.6988 - val_recall: 0.5970\n",
      "Epoch 11/30\n",
      "1172/1172 [==============================] - 17s 15ms/step - loss: 0.6891 - accuracy: 0.7474 - recall: 0.6791 - val_loss: 0.6460 - val_accuracy: 0.7643 - val_recall: 0.7091\n",
      "Epoch 12/30\n",
      "1172/1172 [==============================] - 17s 15ms/step - loss: 0.6670 - accuracy: 0.7588 - recall: 0.6754 - val_loss: 0.9250 - val_accuracy: 0.6643 - val_recall: 0.5778\n",
      "Epoch 13/30\n",
      "1172/1172 [==============================] - 17s 15ms/step - loss: 0.6040 - accuracy: 0.7909 - recall: 0.7275 - val_loss: 0.5300 - val_accuracy: 0.8236 - val_recall: 0.7727\n",
      "Epoch 14/30\n",
      "1172/1172 [==============================] - 17s 15ms/step - loss: 0.4978 - accuracy: 0.8314 - recall: 0.7823 - val_loss: 0.5153 - val_accuracy: 0.8291 - val_recall: 0.7842\n",
      "Epoch 15/30\n",
      "1172/1172 [==============================] - 17s 15ms/step - loss: 0.8075 - accuracy: 0.6786 - recall: 0.5630 - val_loss: 1.0198 - val_accuracy: 0.5857 - val_recall: 0.3835\n",
      "Epoch 16/30\n",
      "1172/1172 [==============================] - 17s 15ms/step - loss: 0.7289 - accuracy: 0.7197 - recall: 0.6163 - val_loss: 0.6182 - val_accuracy: 0.7758 - val_recall: 0.7206\n",
      "Epoch 17/30\n",
      "1172/1172 [==============================] - 17s 15ms/step - loss: 0.7251 - accuracy: 0.7335 - recall: 0.6512 - val_loss: 0.6619 - val_accuracy: 0.7626 - val_recall: 0.6783\n",
      "Epoch 18/30\n",
      "1172/1172 [==============================] - 17s 15ms/step - loss: 0.7680 - accuracy: 0.7058 - recall: 0.6101 - val_loss: 0.7689 - val_accuracy: 0.7110 - val_recall: 0.6306\n",
      "Epoch 19/30\n",
      "1172/1172 [==============================] - 17s 15ms/step - loss: 0.5817 - accuracy: 0.7999 - recall: 0.7445 - val_loss: 0.5599 - val_accuracy: 0.8132 - val_recall: 0.7646\n",
      "Epoch 20/30\n",
      "1172/1172 [==============================] - 17s 15ms/step - loss: 0.6324 - accuracy: 0.7764 - recall: 0.7068 - val_loss: 0.7386 - val_accuracy: 0.7315 - val_recall: 0.6662\n",
      "Epoch 21/30\n",
      "1172/1172 [==============================] - 17s 15ms/step - loss: 0.7021 - accuracy: 0.7431 - recall: 0.6636 - val_loss: 0.8349 - val_accuracy: 0.6886 - val_recall: 0.6079\n",
      "Epoch 22/30\n",
      "1172/1172 [==============================] - 17s 15ms/step - loss: 0.8426 - accuracy: 0.6634 - recall: 0.5443 - val_loss: 0.7838 - val_accuracy: 0.6826 - val_recall: 0.5610\n",
      "Epoch 23/30\n",
      "1172/1172 [==============================] - 17s 15ms/step - loss: 0.7769 - accuracy: 0.6976 - recall: 0.5967 - val_loss: 0.9390 - val_accuracy: 0.6407 - val_recall: 0.5139\n",
      "Epoch 24/30\n",
      "1172/1172 [==============================] - 17s 15ms/step - loss: 0.8723 - accuracy: 0.6652 - recall: 0.5367 - val_loss: 0.8763 - val_accuracy: 0.6714 - val_recall: 0.5570\n",
      "Epoch 25/30\n",
      "1172/1172 [==============================] - 17s 15ms/step - loss: 0.7912 - accuracy: 0.7003 - recall: 0.5899 - val_loss: 0.8585 - val_accuracy: 0.6793 - val_recall: 0.5762\n",
      "Epoch 26/30\n",
      "1172/1172 [==============================] - 17s 15ms/step - loss: 0.7546 - accuracy: 0.7130 - recall: 0.6135 - val_loss: 0.8071 - val_accuracy: 0.6916 - val_recall: 0.5983\n",
      "Epoch 27/30\n",
      "1172/1172 [==============================] - 17s 15ms/step - loss: 0.7616 - accuracy: 0.7168 - recall: 0.6274 - val_loss: 0.7678 - val_accuracy: 0.7195 - val_recall: 0.6417\n",
      "Epoch 28/30\n",
      "1172/1172 [==============================] - 17s 15ms/step - loss: 0.6831 - accuracy: 0.7573 - recall: 0.6845 - val_loss: 0.7064 - val_accuracy: 0.7441 - val_recall: 0.6783\n",
      "Epoch 29/30\n",
      "1172/1172 [==============================] - 17s 15ms/step - loss: 0.6806 - accuracy: 0.7527 - recall: 0.6803 - val_loss: 0.7700 - val_accuracy: 0.7188 - val_recall: 0.6351\n",
      "Epoch 30/30\n",
      "1172/1172 [==============================] - 17s 15ms/step - loss: 0.7259 - accuracy: 0.7337 - recall: 0.6517 - val_loss: 0.7546 - val_accuracy: 0.7229 - val_recall: 0.6644\n"
     ]
    }
   ],
   "source": [
    "model = Sequential()\n",
    "\n",
    "model.add(Embedding(input_dim = tokenizer.num_words, output_dim = 64))\n",
    "model.add(SimpleRNN(64))\n",
    "model.add(Dense(20, activation = 'relu'))\n",
    "model.add(Dense(5, activation = 'softmax'))\n",
    "\n",
    "model.compile(loss = 'categorical_crossentropy', optimizer = 'adam',  metrics=['accuracy','Recall'])\n",
    "# history = model.fit(train_sequences, validation_data=test_sequences, epochs = 30)\n",
    "history = model.fit(x_train,y_train, validation_data=(x_test,y_test), epochs = 30)\n",
    "\n"
   ]
  },
  {
   "cell_type": "code",
   "execution_count": 51,
   "id": "expanded-henry",
   "metadata": {},
   "outputs": [
    {
     "data": {
      "text/plain": [
       "<matplotlib.legend.Legend at 0x7fc195647f50>"
      ]
     },
     "execution_count": 51,
     "metadata": {},
     "output_type": "execute_result"
    },
    {
     "data": {
      "image/png": "[encoded data removed]",
      "text/plain": [
       "<Figure size 432x288 with 1 Axes>"
      ]
     },
     "metadata": {
      "needs_background": "light"
     },
     "output_type": "display_data"
    }
   ],
   "source": [
    "plt.plot(history.history['accuracy'], label='accuracy')\n",
    "plt.plot(history.history['val_accuracy'], label='val_accuracy')\n",
    "plt.xlabel('Epoch')\n",
    "plt.ylabel('Accuracy')\n",
    "plt.title('Results')\n",
    "plt.legend()\n",
    "\n",
    "\n"
   ]
  },
  {
   "cell_type": "code",
   "execution_count": 52,
   "id": "established-surprise",
   "metadata": {},
   "outputs": [
    {
     "data": {
      "text/plain": [
       "Text(0.5, 1.0, 'Results')"
      ]
     },
     "execution_count": 52,
     "metadata": {},
     "output_type": "execute_result"
    },
    {
     "data": {
      "image/png": "[encoded data removed]",
      "text/plain": [
       "<Figure size 432x288 with 1 Axes>"
      ]
     },
     "metadata": {
      "needs_background": "light"
     },
     "output_type": "display_data"
    }
   ],
   "source": [
    "plt.plot(history.history['val_recall'], label='Val Recall')\n",
    "plt.plot(history.history['recall'], label='Recall')\n",
    "plt.legend()\n",
    "plt.xlabel('Epoch')\n",
    "plt.ylabel('Recall')\n",
    "plt.title('Results')\n",
    "\n"
   ]
  },
  {
   "cell_type": "code",
   "execution_count": 53,
   "id": "through-constant",
   "metadata": {},
   "outputs": [],
   "source": [
    "model = Sequential()\n",
    "\n",
    "model.add(Embedding(input_dim = tokenizer.num_words, output_dim = 64))#creates embeddings\n",
    "\n",
    "\n",
    "model.add(Conv1D(64, 10, activation = 'relu'))\n",
    "model.add(MaxPooling1D(5))\n",
    "model.add(Conv1D(32, 7, activation = 'relu'))\n",
    "model.add(GRU(32, dropout = 0.2, recurrent_dropout = 0.2))\n",
    "model.add(Dense(20, activation = 'relu'))\n",
    "model.add(Dense(5, activation = 'softmax'))\n",
    "\n",
    "model.compile(loss = 'categorical_crossentropy', metrics=['accuracy','Recall'], optimizer = 'adam')\n",
    "# model.compile(loss = 'categorical_crossentropy', metrics = ['accuracy'], optimizer = 'adam')\n",
    "\n",
    "# history = model.fit(x_train, y_train, validation_data=(x_test, y_test), epochs = 10)"
   ]
  },
  {
   "cell_type": "code",
   "execution_count": 54,
   "id": "marine-balance",
   "metadata": {},
   "outputs": [
    {
     "name": "stdout",
     "output_type": "stream",
     "text": [
      "Epoch 1/30\n",
      "1172/1172 [==============================] - 17s 15ms/step - loss: 0.7984 - accuracy: 0.6663 - recall: 0.5190 - val_loss: 0.5430 - val_accuracy: 0.7857 - val_recall: 0.7171\n",
      "Epoch 2/30\n",
      "1172/1172 [==============================] - 17s 15ms/step - loss: 0.5172 - accuracy: 0.7967 - recall: 0.7230 - val_loss: 0.5036 - val_accuracy: 0.8041 - val_recall: 0.7276\n",
      "Epoch 3/30\n",
      "1172/1172 [==============================] - 17s 15ms/step - loss: 0.4726 - accuracy: 0.8158 - recall: 0.7484 - val_loss: 0.4992 - val_accuracy: 0.8077 - val_recall: 0.7469\n",
      "Epoch 4/30\n",
      "1172/1172 [==============================] - 17s 15ms/step - loss: 0.4412 - accuracy: 0.8287 - recall: 0.7674 - val_loss: 0.4996 - val_accuracy: 0.8083 - val_recall: 0.7511\n",
      "Epoch 5/30\n",
      "1172/1172 [==============================] - 17s 15ms/step - loss: 0.4045 - accuracy: 0.8444 - recall: 0.7873 - val_loss: 0.5152 - val_accuracy: 0.8070 - val_recall: 0.7475\n",
      "Epoch 6/30\n",
      "1172/1172 [==============================] - 17s 15ms/step - loss: 0.3751 - accuracy: 0.8547 - recall: 0.8023 - val_loss: 0.5101 - val_accuracy: 0.8095 - val_recall: 0.7511\n",
      "Epoch 7/30\n",
      "1172/1172 [==============================] - 17s 15ms/step - loss: 0.3437 - accuracy: 0.8678 - recall: 0.8186 - val_loss: 0.5325 - val_accuracy: 0.8104 - val_recall: 0.7601\n",
      "Epoch 8/30\n",
      "1172/1172 [==============================] - 17s 15ms/step - loss: 0.3245 - accuracy: 0.8737 - recall: 0.8260 - val_loss: 0.5535 - val_accuracy: 0.8106 - val_recall: 0.7605\n",
      "Epoch 9/30\n",
      "1172/1172 [==============================] - 17s 15ms/step - loss: 0.3064 - accuracy: 0.8812 - recall: 0.8362 - val_loss: 0.5736 - val_accuracy: 0.8063 - val_recall: 0.7627\n",
      "Epoch 10/30\n",
      "1172/1172 [==============================] - 17s 15ms/step - loss: 0.2884 - accuracy: 0.8859 - recall: 0.8455 - val_loss: 0.6016 - val_accuracy: 0.8089 - val_recall: 0.7679\n",
      "Epoch 11/30\n",
      "1172/1172 [==============================] - 17s 15ms/step - loss: 0.2764 - accuracy: 0.8915 - recall: 0.8510 - val_loss: 0.6070 - val_accuracy: 0.8076 - val_recall: 0.7679\n",
      "Epoch 12/30\n",
      "1172/1172 [==============================] - 17s 15ms/step - loss: 0.2644 - accuracy: 0.8941 - recall: 0.8559 - val_loss: 0.6441 - val_accuracy: 0.8078 - val_recall: 0.7686\n",
      "Epoch 13/30\n",
      "1172/1172 [==============================] - 17s 15ms/step - loss: 0.2553 - accuracy: 0.8987 - recall: 0.8605 - val_loss: 0.6677 - val_accuracy: 0.8021 - val_recall: 0.7618\n",
      "Epoch 14/30\n",
      "1172/1172 [==============================] - 17s 15ms/step - loss: 0.2511 - accuracy: 0.8995 - recall: 0.8631 - val_loss: 0.6474 - val_accuracy: 0.8070 - val_recall: 0.7672\n",
      "Epoch 15/30\n",
      "1172/1172 [==============================] - 17s 15ms/step - loss: 0.2398 - accuracy: 0.9039 - recall: 0.8677 - val_loss: 0.6966 - val_accuracy: 0.8038 - val_recall: 0.7678\n",
      "Epoch 16/30\n",
      "1172/1172 [==============================] - 17s 15ms/step - loss: 0.2363 - accuracy: 0.9044 - recall: 0.8685 - val_loss: 0.7386 - val_accuracy: 0.7995 - val_recall: 0.7652\n",
      "Epoch 17/30\n",
      "1172/1172 [==============================] - 17s 15ms/step - loss: 0.2318 - accuracy: 0.9055 - recall: 0.8712 - val_loss: 0.7095 - val_accuracy: 0.8060 - val_recall: 0.7750\n",
      "Epoch 18/30\n",
      "1172/1172 [==============================] - 17s 15ms/step - loss: 0.2249 - accuracy: 0.9088 - recall: 0.8739 - val_loss: 0.7214 - val_accuracy: 0.8055 - val_recall: 0.7706\n",
      "Epoch 19/30\n",
      "1172/1172 [==============================] - 17s 15ms/step - loss: 0.2228 - accuracy: 0.9089 - recall: 0.8755 - val_loss: 0.7317 - val_accuracy: 0.8028 - val_recall: 0.7674\n",
      "Epoch 20/30\n",
      "1172/1172 [==============================] - 17s 14ms/step - loss: 0.2191 - accuracy: 0.9114 - recall: 0.8781 - val_loss: 0.7592 - val_accuracy: 0.8062 - val_recall: 0.7746\n",
      "Epoch 21/30\n",
      "1172/1172 [==============================] - 17s 15ms/step - loss: 0.2148 - accuracy: 0.9128 - recall: 0.8792 - val_loss: 0.7475 - val_accuracy: 0.8003 - val_recall: 0.7655\n",
      "Epoch 22/30\n",
      "1172/1172 [==============================] - 17s 15ms/step - loss: 0.2099 - accuracy: 0.9135 - recall: 0.8809 - val_loss: 0.7615 - val_accuracy: 0.8018 - val_recall: 0.7668\n",
      "Epoch 23/30\n",
      "1172/1172 [==============================] - 17s 15ms/step - loss: 0.2067 - accuracy: 0.9143 - recall: 0.8825 - val_loss: 0.8202 - val_accuracy: 0.8026 - val_recall: 0.7726\n",
      "Epoch 24/30\n",
      "1172/1172 [==============================] - 17s 15ms/step - loss: 0.2059 - accuracy: 0.9138 - recall: 0.8818 - val_loss: 0.7842 - val_accuracy: 0.7998 - val_recall: 0.7654\n",
      "Epoch 25/30\n",
      "1172/1172 [==============================] - 17s 15ms/step - loss: 0.2029 - accuracy: 0.9157 - recall: 0.8836 - val_loss: 0.8079 - val_accuracy: 0.7999 - val_recall: 0.7665\n",
      "Epoch 26/30\n",
      "1172/1172 [==============================] - 17s 15ms/step - loss: 0.2022 - accuracy: 0.9155 - recall: 0.8840 - val_loss: 0.8084 - val_accuracy: 0.8038 - val_recall: 0.7733\n",
      "Epoch 27/30\n",
      "1172/1172 [==============================] - 17s 14ms/step - loss: 0.2009 - accuracy: 0.9154 - recall: 0.8833 - val_loss: 0.8076 - val_accuracy: 0.7978 - val_recall: 0.7676\n",
      "Epoch 28/30\n",
      "1172/1172 [==============================] - 17s 15ms/step - loss: 0.1955 - accuracy: 0.9175 - recall: 0.8861 - val_loss: 0.8199 - val_accuracy: 0.8023 - val_recall: 0.7706\n",
      "Epoch 29/30\n",
      "1172/1172 [==============================] - 17s 15ms/step - loss: 0.1971 - accuracy: 0.9171 - recall: 0.8858 - val_loss: 0.8252 - val_accuracy: 0.8045 - val_recall: 0.7738\n",
      "Epoch 30/30\n",
      "1172/1172 [==============================] - 17s 15ms/step - loss: 0.1954 - accuracy: 0.9182 - recall: 0.8861 - val_loss: 0.8159 - val_accuracy: 0.7988 - val_recall: 0.7674\n"
     ]
    }
   ],
   "source": [
    "history = model.fit(x_train,y_train, validation_data=(x_test,y_test), epochs = 30)"
   ]
  },
  {
   "cell_type": "code",
   "execution_count": 57,
   "id": "comparative-slide",
   "metadata": {},
   "outputs": [
    {
     "data": {
      "text/plain": [
       "<matplotlib.legend.Legend at 0x7fc18f1b9550>"
      ]
     },
     "execution_count": 57,
     "metadata": {},
     "output_type": "execute_result"
    },
    {
     "data": {
      "image/png": "[encoded data removed]",
      "text/plain": [
       "<Figure size 432x288 with 1 Axes>"
      ]
     },
     "metadata": {
      "needs_background": "light"
     },
     "output_type": "display_data"
    }
   ],
   "source": [
    "plt.plot(history.history['val_accuracy'], label='val_accuracy')\n",
    "plt.plot(history.history['accuracy'], label='accuracy')\n",
    "plt.xlabel('Epoch')\n",
    "plt.ylabel('Accuracy')\n",
    "plt.title('Results')\n",
    "plt.legend()\n",
    "\n"
   ]
  },
  {
   "cell_type": "code",
   "execution_count": 58,
   "id": "listed-camping",
   "metadata": {},
   "outputs": [
    {
     "data": {
      "text/plain": [
       "Text(0.5, 1.0, 'Results')"
      ]
     },
     "execution_count": 58,
     "metadata": {},
     "output_type": "execute_result"
    },
    {
     "data": {
      "image/png": "[encoded data removed]",
      "text/plain": [
       "<Figure size 432x288 with 1 Axes>"
      ]
     },
     "metadata": {
      "needs_background": "light"
     },
     "output_type": "display_data"
    }
   ],
   "source": [
    "plt.plot(history.history['val_recall'], label='Val Recall')\n",
    "plt.plot(history.history['recall'], label='Recall')\n",
    "plt.legend()\n",
    "plt.xlabel('Epoch')\n",
    "plt.ylabel('Recall')\n",
    "plt.title('Results')"
   ]
  },
  {
   "cell_type": "code",
   "execution_count": null,
   "id": "threatened-being",
   "metadata": {},
   "outputs": [],
   "source": [
    "# model = Sequential()\n",
    "\n",
    "# model.add(Embedding(input_dim = tokenizer.num_words, output_dim = 64))#creates embeddings\n",
    "\n",
    "# model.add(BatchNormalization())\n",
    "# model.add(GRU(16, return_sequences = True))\n",
    "# model.add(GRU(16, return_sequences = True))\n",
    "# model.add(GRU(16))\n",
    "# model.add(Dense(20, activation = 'relu', kernel_regularizer = 'l2'))\n",
    "# model.add(Dropout(0.5))\n",
    "\n",
    "# model.add(Dense(5, activation = 'softmax'))\n",
    "\n",
    "# model.compile(loss = 'categorical_crossentropy', metrics=['accuracy','Recall'], optimizer = 'adam')\n",
    "\n",
    "# history = model.fit(x_train, y_train, validation_data=(x_test, y_test), epochs = 10)\n",
    "# val_accuracy: 0.8515 "
   ]
  },
  {
   "cell_type": "code",
   "execution_count": null,
   "id": "convertible-sensitivity",
   "metadata": {},
   "outputs": [],
   "source": [
    "# model = Sequential()\n",
    "# model.add(Dense(12, input_shape=(1000,), activation='relu'))\n",
    "# model.add(BatchNormalization())\n",
    "# model.add(Dense(128, activation='relu', kernel_regularizer = 'l2'))\n",
    "# model.add(Dropout(0.5))\n",
    "# model.add(Dense(5, activation='softmax')) # --> changed from sigmoid to softmax \n",
    "# model.compile(loss='categorical_crossentropy', optimizer='adam', metrics=['accuracy','Recall'])\n",
    "# val_accuracy: 0.8488"
   ]
  },
  {
   "cell_type": "code",
   "execution_count": 18,
   "id": "contemporary-porcelain",
   "metadata": {},
   "outputs": [
    {
     "name": "stdout",
     "output_type": "stream",
     "text": [
      "Epoch 1/10\n",
      "1172/1172 [==============================] - 91s 78ms/step - loss: 0.7626 - accuracy: 0.6977 - recall: 0.5678 - val_loss: 0.4628 - val_accuracy: 0.8333 - val_recall: 0.7829\n",
      "Epoch 2/10\n",
      "1172/1172 [==============================] - 89s 76ms/step - loss: 0.4287 - accuracy: 0.8425 - recall: 0.7952 - val_loss: 0.4172 - val_accuracy: 0.8492 - val_recall: 0.7928\n",
      "Epoch 3/10\n",
      "1172/1172 [==============================] - 89s 76ms/step - loss: 0.3900 - accuracy: 0.8562 - recall: 0.8111 - val_loss: 0.4035 - val_accuracy: 0.8529 - val_recall: 0.8038\n",
      "Epoch 4/10\n",
      "1172/1172 [==============================] - 89s 76ms/step - loss: 0.3709 - accuracy: 0.8644 - recall: 0.8208 - val_loss: 0.4020 - val_accuracy: 0.8522 - val_recall: 0.8107\n",
      "Epoch 5/10\n",
      "1172/1172 [==============================] - 88s 75ms/step - loss: 0.3564 - accuracy: 0.8691 - recall: 0.8267 - val_loss: 0.3951 - val_accuracy: 0.8536 - val_recall: 0.8184\n",
      "Epoch 6/10\n",
      "1172/1172 [==============================] - 89s 76ms/step - loss: 0.3414 - accuracy: 0.8750 - recall: 0.8347 - val_loss: 0.3990 - val_accuracy: 0.8530 - val_recall: 0.8178\n",
      "Epoch 7/10\n",
      "1172/1172 [==============================] - 89s 76ms/step - loss: 0.3283 - accuracy: 0.8804 - recall: 0.8431 - val_loss: 0.4085 - val_accuracy: 0.8549 - val_recall: 0.8124\n",
      "Epoch 8/10\n",
      "1172/1172 [==============================] - 89s 76ms/step - loss: 0.3144 - accuracy: 0.8855 - recall: 0.8486 - val_loss: 0.4102 - val_accuracy: 0.8530 - val_recall: 0.8228\n",
      "Epoch 9/10\n",
      "1172/1172 [==============================] - 89s 76ms/step - loss: 0.3033 - accuracy: 0.8886 - recall: 0.8550 - val_loss: 0.4061 - val_accuracy: 0.8554 - val_recall: 0.8170\n",
      "Epoch 10/10\n",
      "1172/1172 [==============================] - 88s 75ms/step - loss: 0.2898 - accuracy: 0.8937 - recall: 0.8607 - val_loss: 0.4193 - val_accuracy: 0.8541 - val_recall: 0.8263\n"
     ]
    }
   ],
   "source": [
    "\n",
    "\n",
    "model = Sequential()\n",
    "\n",
    "model.add(Embedding(input_dim = tokenizer.num_words, output_dim = 64))#creates embeddings\n",
    "\n",
    "\n",
    "model.add(GRU(16, return_sequences = True))\n",
    "model.add(GRU(16, return_sequences = True))\n",
    "model.add(GRU(16))\n",
    "model.add(Dense(20, activation = 'relu'))\n",
    "model.add(Dense(5, activation = 'softmax'))\n",
    "\n",
    "model.compile(loss = 'categorical_crossentropy', metrics=['accuracy','Recall'], optimizer = 'adam')\n",
    "\n",
    "history = model.fit(x_train, y_train, validation_data=(x_test, y_test), epochs = 10)\n",
    "# val_accuracy: 0.8614\n",
    "# 0.8541\n",
    "\n",
    "\n",
    "\n"
   ]
  },
  {
   "cell_type": "code",
   "execution_count": 19,
   "id": "geographic-corner",
   "metadata": {},
   "outputs": [
    {
     "data": {
      "text/plain": [
       "<matplotlib.legend.Legend at 0x7ffb285072d0>"
      ]
     },
     "execution_count": 19,
     "metadata": {},
     "output_type": "execute_result"
    },
    {
     "data": {
      "image/png": "[encoded data removed]",
      "text/plain": [
       "<Figure size 432x288 with 1 Axes>"
      ]
     },
     "metadata": {
      "needs_background": "light"
     },
     "output_type": "display_data"
    }
   ],
   "source": [
    "plt.plot(history.history['val_accuracy'], label='val_accuracy')\n",
    "plt.plot(history.history['accuracy'], label='accuracy')\n",
    "plt.xlabel('Epoch')\n",
    "plt.ylabel('Accuracy')\n",
    "plt.title('Results')\n",
    "plt.legend()"
   ]
  },
  {
   "cell_type": "code",
   "execution_count": 20,
   "id": "abandoned-television",
   "metadata": {},
   "outputs": [
    {
     "data": {
      "text/plain": [
       "Text(0.5, 1.0, 'Results')"
      ]
     },
     "execution_count": 20,
     "metadata": {},
     "output_type": "execute_result"
    },
    {
     "data": {
      "image/png": "[encoded data removed]",
      "text/plain": [
       "<Figure size 432x288 with 1 Axes>"
      ]
     },
     "metadata": {
      "needs_background": "light"
     },
     "output_type": "display_data"
    }
   ],
   "source": [
    "plt.plot(history.history['val_recall'], label='Val Recall')\n",
    "plt.plot(history.history['recall'], label='Recall')\n",
    "plt.legend()\n",
    "plt.xlabel('Epoch')\n",
    "plt.ylabel('Recall')\n",
    "plt.title('Results')"
   ]
  },
  {
   "cell_type": "code",
   "execution_count": 21,
   "id": "liberal-absence",
   "metadata": {},
   "outputs": [],
   "source": [
    "y_pred = model.predict(x_test)"
   ]
  },
  {
   "cell_type": "code",
   "execution_count": 80,
   "id": "talented-employment",
   "metadata": {},
   "outputs": [
    {
     "data": {
      "text/plain": [
       "array([[1.31380381e-02, 3.08861403e-04, 6.30534370e-04, 9.84855950e-01,\n",
       "        1.06658903e-03],\n",
       "       [7.94039108e-04, 1.30470144e-05, 9.97837365e-01, 9.51406837e-05,\n",
       "        1.26039668e-03],\n",
       "       [9.60421681e-01, 1.52223010e-03, 1.22593786e-03, 3.48900147e-02,\n",
       "        1.94018730e-03],\n",
       "       ...,\n",
       "       [1.21321832e-03, 2.83048557e-05, 1.34130838e-04, 9.97700274e-01,\n",
       "        9.24077525e-04],\n",
       "       [5.60430467e-01, 9.18409694e-03, 7.33641395e-03, 4.08154935e-01,\n",
       "        1.48940515e-02],\n",
       "       [1.55717798e-03, 4.94696433e-05, 3.49814974e-04, 9.97625172e-01,\n",
       "        4.18345211e-04]], dtype=float32)"
      ]
     },
     "execution_count": 80,
     "metadata": {},
     "output_type": "execute_result"
    }
   ],
   "source": [
    "y_pred"
   ]
  },
  {
   "cell_type": "code",
   "execution_count": 67,
   "id": "incomplete-screen",
   "metadata": {},
   "outputs": [],
   "source": [
    "# df['label'] = dataset['pname'].map({'Books' : 0,\n",
    "#                                         'Cooking' : 1,\n",
    "#                                         'Machine Learning' : 2,\n",
    "#                                         'Movies' : 3,\n",
    "#                                         'Political Discussion' :4})"
   ]
  },
  {
   "cell_type": "code",
   "execution_count": 22,
   "id": "searching-study",
   "metadata": {},
   "outputs": [],
   "source": [
    "predIdxs = np.argmax(y_pred, axis=1)"
   ]
  },
  {
   "cell_type": "code",
   "execution_count": 23,
   "id": "democratic-uzbekistan",
   "metadata": {},
   "outputs": [
    {
     "data": {
      "text/plain": [
       "array([3, 2, 0, ..., 3, 0, 3])"
      ]
     },
     "execution_count": 23,
     "metadata": {},
     "output_type": "execute_result"
    }
   ],
   "source": [
    "predIdxs"
   ]
  },
  {
   "cell_type": "code",
   "execution_count": 24,
   "id": "mexican-spoke",
   "metadata": {},
   "outputs": [
    {
     "data": {
      "text/plain": [
       "array([3, 2, 3, ..., 3, 0, 3])"
      ]
     },
     "execution_count": 24,
     "metadata": {},
     "output_type": "execute_result"
    }
   ],
   "source": [
    "testIdxs = np.argmax(y_test, axis=1) \n",
    "testIdxs"
   ]
  },
  {
   "cell_type": "code",
   "execution_count": 45,
   "id": "welcome-phase",
   "metadata": {},
   "outputs": [
    {
     "data": {
      "text/plain": [
       "array([[1881,   29,   75,  365,  129],\n",
       "       [  27, 2345,   26,   59,   24],\n",
       "       [  74,   10, 2134,  111,  109],\n",
       "       [ 114,   27,   43, 2167,  177],\n",
       "       [  78,   17,   38,  292, 2149]])"
      ]
     },
     "execution_count": 45,
     "metadata": {},
     "output_type": "execute_result"
    }
   ],
   "source": [
    "#con_mat = tf.math.confusion_matrix(labels=y_test, predictions=y_pred).numpy()\n",
    "conf_mat = confusion_matrix(testIdxs, predIdxs)\n",
    "conf_mat"
   ]
  },
  {
   "cell_type": "code",
   "execution_count": 60,
   "id": "crucial-samba",
   "metadata": {},
   "outputs": [
    {
     "data": {
      "image/png": "[encoded data removed]",
      "text/plain": [
       "<Figure size 720x720 with 2 Axes>"
      ]
     },
     "metadata": {},
     "output_type": "display_data"
    }
   ],
   "source": [
    "fig, ax = plt.subplots(figsize=(10,10))\n",
    "sns.set_theme()\n",
    "sns.color_palette(\"cubehelix\", as_cmap=True)\n",
    "sns.heatmap(conf_mat, annot=True, fmt='d', cmap=\"YlGnBu\", \n",
    "            linecolor='white', linewidths=.5, xticklabels=dataset['pname'].unique(), \n",
    "            yticklabels=dataset['pname'].unique())\n",
    "plt.ylabel('Actual')\n",
    "plt.xlabel('Predicted')\n",
    "plt.show()"
   ]
  },
  {
   "cell_type": "code",
   "execution_count": 88,
   "id": "narrative-monte",
   "metadata": {},
   "outputs": [],
   "source": [
    "# # Aid from: https://stackoverflow.com/questions/51282098/plotting-confusion-matrix-for-an-image-classification-model\n",
    "# plt.style.use(\"ggplot\")\n",
    "# plt.imshow(cm, cmap=plt.cm.Blues, interpolation='nearest')\n",
    "# plt.xlabel(\"Predicted labels\")\n",
    "# plt.ylabel(\"True labels\")\n",
    "# plt.xticks(np.arange(len(cm)), ['Worn Incorrectly', 'With Mask', 'Without Mask'], rotation=45, size='large')\n",
    "# plt.yticks(np.arange(len(cm)), ['Worn Incorrectly', 'With Mask', 'Without Mask'], rotation=45, size='large')\n",
    "# plt.title('Confusion matrix ')\n",
    "# plt.grid(None)\n",
    "# plt.colorbar()\n",
    "# for i in range(len(cm)):\n",
    "#     for j in range(len(cm)):\n",
    "#         plt.text(j, i, cm[i, j], ha='center', va='center', size='large')\n",
    "# plt.show()"
   ]
  },
  {
   "cell_type": "code",
   "execution_count": 28,
   "id": "dried-dietary",
   "metadata": {},
   "outputs": [
    {
     "name": "stdout",
     "output_type": "stream",
     "text": [
      "                      precision    recall  f1-score   support\n",
      "\n",
      "               Books       0.87      0.76      0.81      2479\n",
      "             Cooking       0.97      0.95      0.96      2481\n",
      "    Machine Learning       0.92      0.88      0.90      2438\n",
      "              Movies       0.72      0.86      0.78      2528\n",
      "Political Discussion       0.83      0.83      0.83      2574\n",
      "\n",
      "            accuracy                           0.85     12500\n",
      "           macro avg       0.86      0.85      0.86     12500\n",
      "        weighted avg       0.86      0.85      0.86     12500\n",
      "\n"
     ]
    }
   ],
   "source": [
    "from sklearn import metrics\n",
    "print(metrics.classification_report(testIdxs, predIdxs, target_names=dataset['pname'].unique()))"
   ]
  },
  {
   "cell_type": "code",
   "execution_count": null,
   "id": "systematic-reggae",
   "metadata": {},
   "outputs": [],
   "source": []
  },
  {
   "cell_type": "code",
   "execution_count": 26,
   "id": "gorgeous-mining",
   "metadata": {},
   "outputs": [
    {
     "data": {
      "text/plain": [
       "array(['Books', 'Cooking', 'Machine Learning', 'Movies',\n",
       "       'Political Discussion'], dtype=object)"
      ]
     },
     "execution_count": 26,
     "metadata": {},
     "output_type": "execute_result"
    }
   ],
   "source": [
    "dataset['pname'].unique()"
   ]
  },
  {
   "cell_type": "code",
   "execution_count": 29,
   "id": "hired-response",
   "metadata": {},
   "outputs": [],
   "source": [
    "model.save('my_model.h5')"
   ]
  },
  {
   "cell_type": "code",
   "execution_count": 30,
   "id": "consecutive-minnesota",
   "metadata": {},
   "outputs": [],
   "source": [
    "new_model = tf.keras.models.load_model('my_model.h5')"
   ]
  },
  {
   "cell_type": "code",
   "execution_count": 31,
   "id": "framed-plaza",
   "metadata": {},
   "outputs": [
    {
     "name": "stdout",
     "output_type": "stream",
     "text": [
      "Model: \"sequential\"\n",
      "_________________________________________________________________\n",
      "Layer (type)                 Output Shape              Param #   \n",
      "=================================================================\n",
      "embedding (Embedding)        (None, None, 64)          64000     \n",
      "_________________________________________________________________\n",
      "gru (GRU)                    (None, None, 16)          3936      \n",
      "_________________________________________________________________\n",
      "gru_1 (GRU)                  (None, None, 16)          1632      \n",
      "_________________________________________________________________\n",
      "gru_2 (GRU)                  (None, 16)                1632      \n",
      "_________________________________________________________________\n",
      "dense (Dense)                (None, 20)                340       \n",
      "_________________________________________________________________\n",
      "dense_1 (Dense)              (None, 5)                 105       \n",
      "=================================================================\n",
      "Total params: 71,645\n",
      "Trainable params: 71,645\n",
      "Non-trainable params: 0\n",
      "_________________________________________________________________\n"
     ]
    }
   ],
   "source": [
    "new_model.summary()"
   ]
  },
  {
   "cell_type": "code",
   "execution_count": 34,
   "id": "outside-diagram",
   "metadata": {},
   "outputs": [
    {
     "name": "stdout",
     "output_type": "stream",
     "text": [
      "391/391 - 5s - loss: 0.4193 - accuracy: 0.8541 - recall: 0.8263\n",
      "[0.41927024722099304, 0.8540800213813782, 0.8263199925422668]\n"
     ]
    }
   ],
   "source": [
    "print(new_model.evaluate(x_test, y_test, verbose=2))\n",
    "## print('Restored model, accuracy: {:5.2f}%'.format(100 * acc))"
   ]
  },
  {
   "cell_type": "code",
   "execution_count": 50,
   "id": "copyrighted-mason",
   "metadata": {},
   "outputs": [
    {
     "name": "stdout",
     "output_type": "stream",
     "text": [
      "('Failed to import pydot. You must `pip install pydot` and install graphviz (https://graphviz.gitlab.io/download/), ', 'for `pydotprint` to work.')\n"
     ]
    }
   ],
   "source": [
    "tf.keras.utils.plot_model(new_model, show_shapes=True)"
   ]
  },
  {
   "cell_type": "code",
   "execution_count": null,
   "id": "asian-diabetes",
   "metadata": {},
   "outputs": [],
   "source": []
  },
  {
   "cell_type": "code",
   "execution_count": null,
   "id": "artificial-disclaimer",
   "metadata": {},
   "outputs": [],
   "source": [
    "# model = keras.Sequential()\n",
    "# # Add an Embedding layer expecting input vocab of size 1000, and\n",
    "# # output embedding dimension of size 64.\n",
    "# model.add(layers.Embedding(input_dim=1000, output_dim=64))\n",
    "\n",
    "# # Add a LSTM layer with 128 internal units.\n",
    "# model.add(layers.LSTM(128))\n",
    "\n",
    "# # Add a Dense layer with 10 units.\n",
    "# model.add(layers.Dense(10))\n",
    "\n",
    "# model.summary()"
   ]
  },
  {
   "cell_type": "code",
   "execution_count": 28,
   "id": "packed-surprise",
   "metadata": {},
   "outputs": [
    {
     "name": "stdout",
     "output_type": "stream",
     "text": [
      "Epoch 1/10\n",
      "1172/1172 [==============================] - 140s 119ms/step - loss: 1.2131 - accuracy: 0.4493 - recall: 0.1965 - val_loss: 0.9604 - val_accuracy: 0.6114 - val_recall: 0.3098\n",
      "Epoch 2/10\n",
      "1172/1172 [==============================] - 138s 118ms/step - loss: 0.7564 - accuracy: 0.7123 - recall: 0.5879 - val_loss: 0.5527 - val_accuracy: 0.7991 - val_recall: 0.7539\n",
      "Epoch 3/10\n",
      "1172/1172 [==============================] - 138s 117ms/step - loss: 0.5679 - accuracy: 0.7918 - recall: 0.7179 - val_loss: 0.5466 - val_accuracy: 0.7985 - val_recall: 0.7404\n",
      "Epoch 4/10\n",
      "1172/1172 [==============================] - 137s 117ms/step - loss: 0.5005 - accuracy: 0.8131 - recall: 0.7434 - val_loss: 0.5075 - val_accuracy: 0.8122 - val_recall: 0.7409\n",
      "Epoch 5/10\n",
      "1172/1172 [==============================] - 137s 117ms/step - loss: 0.4684 - accuracy: 0.8268 - recall: 0.7631 - val_loss: 0.4677 - val_accuracy: 0.8254 - val_recall: 0.7722\n",
      "Epoch 6/10\n",
      "1172/1172 [==============================] - 137s 117ms/step - loss: 0.4542 - accuracy: 0.8332 - recall: 0.7750 - val_loss: 0.4695 - val_accuracy: 0.8254 - val_recall: 0.7733\n",
      "Epoch 7/10\n",
      "1172/1172 [==============================] - 137s 117ms/step - loss: 0.4454 - accuracy: 0.8389 - recall: 0.7815 - val_loss: 0.4437 - val_accuracy: 0.8378 - val_recall: 0.7887\n",
      "Epoch 8/10\n",
      "1172/1172 [==============================] - 136s 116ms/step - loss: 0.4222 - accuracy: 0.8465 - recall: 0.7923 - val_loss: 0.4307 - val_accuracy: 0.8427 - val_recall: 0.7963\n",
      "Epoch 9/10\n",
      "1172/1172 [==============================] - 137s 117ms/step - loss: 0.4078 - accuracy: 0.8495 - recall: 0.7999 - val_loss: 0.4149 - val_accuracy: 0.8471 - val_recall: 0.7947\n",
      "Epoch 10/10\n",
      "1172/1172 [==============================] - 136s 116ms/step - loss: 0.3967 - accuracy: 0.8529 - recall: 0.8044 - val_loss: 0.4215 - val_accuracy: 0.8470 - val_recall: 0.7951\n"
     ]
    }
   ],
   "source": [
    "model = Sequential()\n",
    "\n",
    "model.add(Embedding(input_dim = tokenizer.num_words, output_dim = 64))#creates embeddings\n",
    "\n",
    "\n",
    "model.add(GRU(16, return_sequences = True))\n",
    "model.add(GRU(16, return_sequences = True))\n",
    "model.add(GRU(16, return_sequences = True))\n",
    "model.add(SimpleRNN(128, return_sequences = True))\n",
    "model.add(LSTM(16))\n",
    "model.add(Dense(20, activation = 'relu'))\n",
    "model.add(Dense(5, activation = 'softmax'))\n",
    "\n",
    "model.compile(loss = 'categorical_crossentropy', metrics=['accuracy','Recall'], optimizer = 'adam')\n",
    "\n",
    "history = model.fit(x_train, y_train, validation_data=(x_test, y_test), epochs = 10)\n",
    "# val_accuracy: 0.8566 "
   ]
  },
  {
   "cell_type": "code",
   "execution_count": 17,
   "id": "interpreted-musician",
   "metadata": {},
   "outputs": [
    {
     "name": "stdout",
     "output_type": "stream",
     "text": [
      "Model: \"sequential_2\"\n",
      "_________________________________________________________________\n",
      "Layer (type)                 Output Shape              Param #   \n",
      "=================================================================\n",
      "embedding_2 (Embedding)      (None, None, 64)          64000     \n",
      "_________________________________________________________________\n",
      "gru_6 (GRU)                  (None, None, 16)          3936      \n",
      "_________________________________________________________________\n",
      "gru_7 (GRU)                  (None, None, 16)          1632      \n",
      "_________________________________________________________________\n",
      "gru_8 (GRU)                  (None, None, 16)          1632      \n",
      "_________________________________________________________________\n",
      "lstm_2 (LSTM)                (None, 16)                2112      \n",
      "_________________________________________________________________\n",
      "dense_2 (Dense)              (None, 20)                340       \n",
      "_________________________________________________________________\n",
      "dense_3 (Dense)              (None, 5)                 105       \n",
      "=================================================================\n",
      "Total params: 73,757\n",
      "Trainable params: 73,757\n",
      "Non-trainable params: 0\n",
      "_________________________________________________________________\n"
     ]
    }
   ],
   "source": [
    "model.summary()"
   ]
  },
  {
   "cell_type": "code",
   "execution_count": 18,
   "id": "dietary-field",
   "metadata": {},
   "outputs": [
    {
     "data": {
      "text/plain": [
       "<matplotlib.legend.Legend at 0x7ff6267305d0>"
      ]
     },
     "execution_count": 18,
     "metadata": {},
     "output_type": "execute_result"
    },
    {
     "data": {
      "image/png": "[encoded data removed]",
      "text/plain": [
       "<Figure size 432x288 with 1 Axes>"
      ]
     },
     "metadata": {
      "needs_background": "light"
     },
     "output_type": "display_data"
    }
   ],
   "source": [
    "plt.plot(history.history['val_accuracy'], label='val_accuracy')\n",
    "plt.plot(history.history['accuracy'], label='accuracy')\n",
    "plt.xlabel('Epoch')\n",
    "plt.ylabel('Accuracy')\n",
    "plt.title('Results')\n",
    "plt.legend()"
   ]
  },
  {
   "cell_type": "code",
   "execution_count": 19,
   "id": "composite-borough",
   "metadata": {},
   "outputs": [
    {
     "data": {
      "text/plain": [
       "Text(0.5, 1.0, 'Results')"
      ]
     },
     "execution_count": 19,
     "metadata": {},
     "output_type": "execute_result"
    },
    {
     "data": {
      "image/png": "[encoded data removed]",
      "text/plain": [
       "<Figure size 432x288 with 1 Axes>"
      ]
     },
     "metadata": {
      "needs_background": "light"
     },
     "output_type": "display_data"
    }
   ],
   "source": [
    "plt.plot(history.history['val_recall'], label='Val Recall')\n",
    "plt.plot(history.history['recall'], label='Recall')\n",
    "plt.legend()\n",
    "plt.xlabel('Epoch')\n",
    "plt.ylabel('Recall')\n",
    "plt.title('Results')"
   ]
  },
  {
   "cell_type": "code",
   "execution_count": 20,
   "id": "remarkable-funeral",
   "metadata": {},
   "outputs": [],
   "source": [
    "y_pred = model.predict(x_test)"
   ]
  },
  {
   "cell_type": "code",
   "execution_count": 22,
   "id": "romantic-allen",
   "metadata": {},
   "outputs": [],
   "source": [
    "predIdxs = np.argmax(y_pred, axis=1)\n",
    "testIdxs = np.argmax(y_test, axis=1) "
   ]
  },
  {
   "cell_type": "code",
   "execution_count": 23,
   "id": "amazing-comment",
   "metadata": {},
   "outputs": [
    {
     "data": {
      "text/plain": [
       "array([[2052,   26,   46,  210,  145],\n",
       "       [  67, 2344,   10,   31,   29],\n",
       "       [ 126,   17, 2124,   53,  118],\n",
       "       [ 256,   20,   37, 1997,  218],\n",
       "       [ 199,   11,   39,  134, 2191]])"
      ]
     },
     "execution_count": 23,
     "metadata": {},
     "output_type": "execute_result"
    }
   ],
   "source": [
    "conf_mat = confusion_matrix(testIdxs, predIdxs)\n",
    "conf_mat"
   ]
  },
  {
   "cell_type": "code",
   "execution_count": 27,
   "id": "adaptive-peoples",
   "metadata": {},
   "outputs": [
    {
     "data": {
      "image/png": "[encoded data removed]",
      "text/plain": [
       "<Figure size 360x360 with 2 Axes>"
      ]
     },
     "metadata": {},
     "output_type": "display_data"
    }
   ],
   "source": [
    "fig, ax = plt.subplots(figsize=(5,5))\n",
    "sns.set_theme()\n",
    "sns.color_palette(\"cubehelix\", as_cmap=True)\n",
    "sns.heatmap(conf_mat, annot=True, fmt='d', cmap=\"YlGnBu\", \n",
    "            linecolor='white', linewidths=.5, xticklabels=dataset['pname'].unique(), \n",
    "            yticklabels=dataset['pname'].unique())\n",
    "plt.ylabel('Actual')\n",
    "plt.xlabel('Predicted')\n",
    "plt.show()"
   ]
  },
  {
   "cell_type": "code",
   "execution_count": 25,
   "id": "upper-december",
   "metadata": {},
   "outputs": [
    {
     "name": "stdout",
     "output_type": "stream",
     "text": [
      "                      precision    recall  f1-score   support\n",
      "\n",
      "               Books       0.76      0.83      0.79      2479\n",
      "             Cooking       0.97      0.94      0.96      2481\n",
      "    Machine Learning       0.94      0.87      0.90      2438\n",
      "              Movies       0.82      0.79      0.81      2528\n",
      "Political Discussion       0.81      0.85      0.83      2574\n",
      "\n",
      "            accuracy                           0.86     12500\n",
      "           macro avg       0.86      0.86      0.86     12500\n",
      "        weighted avg       0.86      0.86      0.86     12500\n",
      "\n"
     ]
    }
   ],
   "source": [
    "from sklearn import metrics\n",
    "print(metrics.classification_report(testIdxs, predIdxs, target_names=dataset['pname'].unique()))"
   ]
  },
  {
   "cell_type": "code",
   "execution_count": null,
   "id": "urban-pressure",
   "metadata": {},
   "outputs": [],
   "source": []
  }
 ],
 "metadata": {
  "kernelspec": {
   "display_name": "Python 3",
   "language": "python",
   "name": "python3"
  },
  "language_info": {
   "codemirror_mode": {
    "name": "ipython",
    "version": 3
   },
   "file_extension": ".py",
   "mimetype": "text/x-python",
   "name": "python",
   "nbconvert_exporter": "python",
   "pygments_lexer": "ipython3",
   "version": "3.8.5"
  }
 },
 "nbformat": 4,
 "nbformat_minor": 5
}
